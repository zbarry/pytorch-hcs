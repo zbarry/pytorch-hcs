{
 "cells": [
  {
   "cell_type": "markdown",
   "id": "f287f199-b05e-46f9-8e79-f4c834afae99",
   "metadata": {},
   "source": [
    "# Exploring the BBBC021 dataset"
   ]
  },
  {
   "cell_type": "code",
   "execution_count": null,
   "id": "da71bd83-32f7-4386-8525-e594c7975750",
   "metadata": {},
   "outputs": [],
   "source": [
    "%load_ext autoreload\n",
    "%autoreload 2"
   ]
  },
  {
   "cell_type": "markdown",
   "id": "7234612d-a66d-4b27-bd30-e501a18845e2",
   "metadata": {},
   "source": [
    "# Imports"
   ]
  },
  {
   "cell_type": "code",
   "execution_count": null,
   "id": "77b8da5e-631e-4560-8bac-b9c4186d56e9",
   "metadata": {},
   "outputs": [],
   "source": [
    "import holoviews as hv\n",
    "import numpy as np\n",
    "\n",
    "from pybbbc import BBBC021"
   ]
  },
  {
   "cell_type": "markdown",
   "id": "93afb4d2-956d-40fa-b5b4-0cfe5f1a8bea",
   "metadata": {},
   "source": [
    "# Initializing HoloViews"
   ]
  },
  {
   "cell_type": "code",
   "execution_count": null,
   "id": "568578bd-5045-49e9-80b5-90dc8b51767c",
   "metadata": {},
   "outputs": [],
   "source": [
    "hv.extension(\"bokeh\")"
   ]
  },
  {
   "cell_type": "code",
   "execution_count": null,
   "id": "38a5da5e-c949-4714-92d9-89c00f4481ec",
   "metadata": {},
   "outputs": [],
   "source": [
    "im_opts = hv.opts.Image(\n",
    "    aspect=\"equal\",\n",
    "    tools=[\"hover\"],\n",
    "    active_tools=[\"wheel_zoom\"],\n",
    "    colorbar=True,\n",
    "    cmap=\"fire\",\n",
    "    normalize=False,\n",
    ")\n",
    "\n",
    "rgb_opts = hv.opts.RGB(\n",
    "    aspect=\"equal\",\n",
    "    active_tools=[\"wheel_zoom\"],\n",
    ")\n",
    "\n",
    "hv.opts.defaults(im_opts, rgb_opts)"
   ]
  },
  {
   "cell_type": "markdown",
   "id": "f5c8e302-edbc-460c-b6d0-1c34c817fff1",
   "metadata": {},
   "source": [
    "# BBBC021 class\n",
    "\n",
    "* What it does for us\n",
    "* How to view images with HoloViews\n",
    "* Subset the data - compounds with known MoA and compounds without"
   ]
  },
  {
   "cell_type": "code",
   "execution_count": null,
   "id": "875a71b3-957f-48c0-b988-06cd19663a41",
   "metadata": {},
   "outputs": [],
   "source": [
    "bbbc021 = BBBC021()"
   ]
  },
  {
   "cell_type": "code",
   "execution_count": null,
   "id": "5e38c950-7e56-4a71-915f-48b64bfd8fb8",
   "metadata": {},
   "outputs": [],
   "source": [
    "bbbc021.CHANNELS"
   ]
  },
  {
   "cell_type": "code",
   "execution_count": null,
   "id": "939689a5-9c3f-4d17-935f-c8319b779609",
   "metadata": {},
   "outputs": [],
   "source": [
    "from pybbbc.utils import bytes_to_str"
   ]
  },
  {
   "cell_type": "code",
   "execution_count": null,
   "id": "a63b34bf-5645-4124-a9be-0909cfb56f65",
   "metadata": {},
   "outputs": [],
   "source": [
    "bytes_to_str([b\"asdf\", b\"3134\"])"
   ]
  },
  {
   "cell_type": "code",
   "execution_count": null,
   "id": "b2a578a5-be7f-4b2e-8b14-b380d303138d",
   "metadata": {},
   "outputs": [],
   "source": [
    "bbbc021.moa"
   ]
  },
  {
   "cell_type": "code",
   "execution_count": null,
   "id": "4a1c4251-c30a-4d53-8906-0c2f5ad2144b",
   "metadata": {},
   "outputs": [],
   "source": [
    "bbbc021.image_df.dtypes"
   ]
  },
  {
   "cell_type": "code",
   "execution_count": null,
   "id": "ad5e6729-df66-42f6-aa30-c1bb0d94b29e",
   "metadata": {},
   "outputs": [],
   "source": [
    "moas = bbbc021.moa_df[\"moa\"].unique()\n",
    "num_classes = len(moas[moas != \"null\"])\n",
    "\n",
    "num_classes"
   ]
  },
  {
   "cell_type": "code",
   "execution_count": null,
   "id": "e60be003-f7d9-4770-9713-98f4aeaf4b1f",
   "metadata": {},
   "outputs": [],
   "source": [
    "len(bbbc021.image_df)"
   ]
  },
  {
   "cell_type": "code",
   "execution_count": null,
   "id": "06f30f7a-f729-4723-8704-335b3f13133d",
   "metadata": {},
   "outputs": [],
   "source": [
    "moas = bbbc021.moa_df.sort_values(\"moa\")[\"moa\"].unique()\n",
    "moas = moas[moas != \"null\"]\n",
    "\n",
    "mapping = {idx: moa for idx, moa in enumerate(moas)}\n",
    "mapping"
   ]
  },
  {
   "cell_type": "code",
   "execution_count": null,
   "id": "b701ea1e-d685-4aa0-8777-ec9f95b2880e",
   "metadata": {},
   "outputs": [],
   "source": [
    "moas = bbbc021.moa_df[\"moa\"].unique()"
   ]
  },
  {
   "cell_type": "code",
   "execution_count": null,
   "id": "e00034d7-0c75-415b-a2b5-e43d3d3645ab",
   "metadata": {},
   "outputs": [],
   "source": []
  },
  {
   "cell_type": "code",
   "execution_count": null,
   "id": "1679b16f-a1c1-4581-a662-8b5dcde8ae51",
   "metadata": {},
   "outputs": [],
   "source": [
    "bbbc021.COMPOUNDS[:5]"
   ]
  },
  {
   "cell_type": "code",
   "execution_count": null,
   "id": "bb03fd73-c549-4a8a-adce-969c53e07610",
   "metadata": {},
   "outputs": [],
   "source": [
    "bbbc021.IMG_SHAPE"
   ]
  },
  {
   "cell_type": "code",
   "execution_count": null,
   "id": "424085eb-d42b-4a8f-9ebe-3d9b6e964dff",
   "metadata": {},
   "outputs": [],
   "source": [
    "bbbc021.N_SITES"
   ]
  },
  {
   "cell_type": "code",
   "execution_count": null,
   "id": "25b7c647-cc20-4baf-bbff-1fe4a955c538",
   "metadata": {},
   "outputs": [],
   "source": [
    "bbbc021.PLATES[:3]"
   ]
  },
  {
   "cell_type": "code",
   "execution_count": null,
   "id": "6335cebe-3696-4373-8143-add2d6e3a12e",
   "metadata": {},
   "outputs": [],
   "source": [
    "bbbc021.MOA"
   ]
  },
  {
   "cell_type": "code",
   "execution_count": null,
   "id": "7dbbe7c5-241f-4443-b1fe-a1862deb086c",
   "metadata": {},
   "outputs": [],
   "source": [
    "bbbc021.image_df"
   ]
  },
  {
   "cell_type": "code",
   "execution_count": null,
   "id": "3940e390-cfc1-42c3-9d60-92068ab1ef42",
   "metadata": {},
   "outputs": [],
   "source": [
    "bbbc021.moa_df"
   ]
  },
  {
   "cell_type": "code",
   "execution_count": null,
   "id": "8366b147-8865-406d-8138-106738db2839",
   "metadata": {},
   "outputs": [],
   "source": [
    "bbbc021.CHANNELS"
   ]
  },
  {
   "cell_type": "code",
   "execution_count": null,
   "id": "7df23004-8990-477e-bd27-cc67a32b56c7",
   "metadata": {},
   "outputs": [],
   "source": [
    "bbbc021_with_moa = BBBC021(moa=[moa for moa in BBBC021.MOA if moa != \"null\"])"
   ]
  },
  {
   "cell_type": "code",
   "execution_count": null,
   "id": "8c9e63ac-0e54-47ff-8a01-721389f1f54a",
   "metadata": {},
   "outputs": [],
   "source": [
    "bbbc021_with_moa.moa_df[\"moa\"].unique()"
   ]
  },
  {
   "cell_type": "code",
   "execution_count": null,
   "id": "8d968d8f-008b-4a0d-9f9b-01c67d78c042",
   "metadata": {},
   "outputs": [],
   "source": [
    "bbbc021_with_moa.moa_df[\"concentration\"].unique().tolist()"
   ]
  },
  {
   "cell_type": "code",
   "execution_count": null,
   "id": "32381769-3a86-4dfd-b8c6-c01fd67ff6c8",
   "metadata": {},
   "outputs": [],
   "source": []
  },
  {
   "cell_type": "code",
   "execution_count": null,
   "id": "33d6da2d-17cd-401a-9198-c3098cc8e37e",
   "metadata": {},
   "outputs": [],
   "source": [
    "bbbc021.CHANNELS"
   ]
  },
  {
   "cell_type": "code",
   "execution_count": null,
   "id": "20f3716b-dcc6-4f62-b655-2434d97fb747",
   "metadata": {},
   "outputs": [],
   "source": [
    "def make_layout(image_idx):\n",
    "    image, metadata = bbbc021[image_idx]\n",
    "\n",
    "    prefix = f\"{metadata.compound.compound} @ {metadata.compound.concentration:.2e} μM, {metadata.compound.moa}\"\n",
    "\n",
    "    plots = []\n",
    "\n",
    "    cmaps = [\"fire\", \"kg\", \"kb\"]\n",
    "\n",
    "    for channel_idx, im_channel in enumerate(image):\n",
    "        plot = hv.Image(\n",
    "            im_channel,\n",
    "            bounds=(0, 0, im_channel.shape[1], im_channel.shape[0]),\n",
    "            label=f\"{prefix} | {bbbc021.CHANNELS[channel_idx]}\",\n",
    "        ).opts(cmap=cmaps[channel_idx])\n",
    "        plots.append(plot)\n",
    "\n",
    "    plots.append(\n",
    "        hv.RGB(\n",
    "            image.transpose(1, 2, 0),\n",
    "            bounds=(0, 0, im_channel.shape[1], im_channel.shape[0]),\n",
    "            label=\"Channel overlay\",\n",
    "        )\n",
    "    )\n",
    "\n",
    "    return hv.Layout(plots).cols(2)\n",
    "\n",
    "\n",
    "hv.DynamicMap(make_layout, kdims=\"image\").redim.range(image=(0, len(bbbc021) - 1))"
   ]
  },
  {
   "cell_type": "markdown",
   "id": "67677d7a-71da-4bd5-a260-9e45ac0733ad",
   "metadata": {},
   "source": [
    "# Explore by MoA"
   ]
  },
  {
   "cell_type": "code",
   "execution_count": null,
   "id": "9856cbc9-9f7d-4dae-8458-b85572a0cda3",
   "metadata": {},
   "outputs": [],
   "source": []
  }
 ],
 "metadata": {
  "kernelspec": {
   "display_name": "pytorch-hcs",
   "language": "python",
   "name": "pytorch-hcs"
  },
  "language_info": {
   "codemirror_mode": {
    "name": "ipython",
    "version": 3
   },
   "file_extension": ".py",
   "mimetype": "text/x-python",
   "name": "python",
   "nbconvert_exporter": "python",
   "pygments_lexer": "ipython3",
   "version": "3.9.7"
  }
 },
 "nbformat": 4,
 "nbformat_minor": 5
}
