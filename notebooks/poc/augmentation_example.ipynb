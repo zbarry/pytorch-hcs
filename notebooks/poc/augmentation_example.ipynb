{
 "cells": [
  {
   "cell_type": "code",
   "execution_count": null,
   "id": "bf4f9b27-60d3-4df7-885e-0128f76769ac",
   "metadata": {},
   "outputs": [],
   "source": [
    "%load_ext autoreload\n",
    "%autoreload 2"
   ]
  },
  {
   "cell_type": "code",
   "execution_count": null,
   "id": "dd99087e-b1d4-43bb-96a8-92b1ad11d54b",
   "metadata": {},
   "outputs": [],
   "source": [
    "import random\n",
    "\n",
    "import cv2\n",
    "import numpy as np\n",
    "import torch\n",
    "import torchvision.transforms as tvtransforms\n",
    "\n",
    "from pybbbc import BBBC021\n",
    "\n",
    "import holoviews as hv\n",
    "\n",
    "hv.extension('bokeh')"
   ]
  },
  {
   "cell_type": "code",
   "execution_count": null,
   "id": "c1e2b154-6aab-4f2e-8230-68fd9649408a",
   "metadata": {},
   "outputs": [],
   "source": [
    "bbbc021 = BBBC021()"
   ]
  },
  {
   "cell_type": "code",
   "execution_count": null,
   "id": "bdbf0019-c53f-4e48-97df-74eb65de39de",
   "metadata": {},
   "outputs": [],
   "source": [
    "im, _ = bbbc021[4000]"
   ]
  },
  {
   "cell_type": "code",
   "execution_count": null,
   "id": "e516acf9-fed2-457d-8d67-f6edbd8ed857",
   "metadata": {},
   "outputs": [],
   "source": [
    "def normalize_image(im, new_min, new_max):\n",
    "    im_max, im_min = im.max(), im.min()\n",
    "\n",
    "    return (im - im_min) * (new_max - new_min) / (im_max - im_min) + new_min"
   ]
  },
  {
   "cell_type": "code",
   "execution_count": null,
   "id": "e2ba54c4-1068-48c6-aa82-d6d574011bef",
   "metadata": {
    "tags": []
   },
   "outputs": [],
   "source": [
    "def adjust_gamma(im, gamma):\n",
    "    \n",
    "    # operate across channels independently\n",
    "\n",
    "    gamma_ims = []\n",
    "\n",
    "    for channel_idx in range(im.shape[2]):\n",
    "        im_channel = im[..., channel_idx]\n",
    "\n",
    "        im_max, im_min = im_channel.max(), im_channel.min()\n",
    "\n",
    "#         gamma = np.random.uniform(gamma_low, gamma_high)\n",
    "\n",
    "        im_channel = normalize_image(\n",
    "            normalize_image(im_channel, 0, 1) ** gamma, im_min, im_max\n",
    "        )\n",
    "\n",
    "        gamma_ims.append(im_channel[..., np.newaxis])\n",
    "\n",
    "    return np.concatenate(gamma_ims, axis=-1)"
   ]
  },
  {
   "cell_type": "code",
   "execution_count": null,
   "id": "1185c01f-7d18-4796-ad1c-d2181f99fc82",
   "metadata": {},
   "outputs": [],
   "source": [
    "ims = [adjust_gamma(im, gamma) for gamma in [0.5, 0.75, 1, 1.25, 1.5]]"
   ]
  },
  {
   "cell_type": "code",
   "execution_count": null,
   "id": "6952cafc-1fa1-4487-a430-10924258f490",
   "metadata": {},
   "outputs": [],
   "source": [
    "sigmas = [0, 0.025, 0.1, 0.2]\n",
    "\n",
    "ims = [im + sigma * np.random.randn(*im.shape) for sigma in sigmas]"
   ]
  },
  {
   "cell_type": "code",
   "execution_count": null,
   "id": "53174c5a-53e1-4836-b4bc-75a71722d7a5",
   "metadata": {},
   "outputs": [],
   "source": [
    "hv.Layout([hv.RGB(im_.transpose(1, 2, 0), bounds=(0, 0, im.shape[2], im.shape[1]), label=f'{sigma=}') for im_, sigma in zip(ims, sigmas)]).cols(2)"
   ]
  },
  {
   "cell_type": "code",
   "execution_count": null,
   "id": "bb4e6ade-18b6-470c-86d1-f0126f1f2b8e",
   "metadata": {},
   "outputs": [],
   "source": []
  }
 ],
 "metadata": {
  "kernelspec": {
   "display_name": "Python 3 (ipykernel)",
   "language": "python",
   "name": "python3"
  },
  "language_info": {
   "codemirror_mode": {
    "name": "ipython",
    "version": 3
   },
   "file_extension": ".py",
   "mimetype": "text/x-python",
   "name": "python",
   "nbconvert_exporter": "python",
   "pygments_lexer": "ipython3",
   "version": "3.9.7"
  }
 },
 "nbformat": 4,
 "nbformat_minor": 5
}
