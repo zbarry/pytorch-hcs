{
 "cells": [
  {
   "cell_type": "code",
   "execution_count": null,
   "id": "bf82536a-27e1-4dd4-9887-fb78c9d7930e",
   "metadata": {},
   "outputs": [],
   "source": [
    "%load_ext autoreload\n",
    "%autoreload 2"
   ]
  },
  {
   "cell_type": "code",
   "execution_count": null,
   "id": "43d7cb0d-8cd3-441b-9f99-e05514ea8a14",
   "metadata": {},
   "outputs": [],
   "source": [
    "from pathlib import Path\n",
    "import holoviews as hv\n",
    "\n",
    "import cv2\n",
    "import numpy as np\n",
    "from pytorch_hcs.datasets import BBBC021DataModule, BBBC021Dataset\n",
    "from pybbbc import BBBC021\n",
    "\n",
    "cv2.setNumThreads(0)\n",
    "\n",
    "from pytorch_hcs.vis import set_hv_defaults\n",
    "\n",
    "set_hv_defaults()"
   ]
  },
  {
   "cell_type": "code",
   "execution_count": null,
   "id": "09ab6d75-cd97-4d26-89c7-528c3a5000f2",
   "metadata": {},
   "outputs": [],
   "source": [
    "dm = BBBC021DataModule(\n",
    "    num_workers=8,\n",
    "    tv_batch_size=4,\n",
    "    t_batch_size=8,\n",
    ")\n",
    "\n",
    "dm.setup()"
   ]
  },
  {
   "cell_type": "code",
   "execution_count": null,
   "id": "8df0d164-f7f6-4321-9782-0094026624f1",
   "metadata": {},
   "outputs": [],
   "source": [
    "dl = dm.train_dataloader()"
   ]
  },
  {
   "cell_type": "code",
   "execution_count": null,
   "id": "685f658e-e90e-44dd-9611-be0de5695057",
   "metadata": {},
   "outputs": [],
   "source": [
    "batch = next(iter(dl))\n",
    "\n",
    "images, labels, metadata = batch\n",
    "\n",
    "classes = [dm.label_to_class[int(label)] for label in labels]"
   ]
  },
  {
   "cell_type": "code",
   "execution_count": null,
   "id": "7dff777b-979b-49c2-b2a9-f2af480e1f07",
   "metadata": {},
   "outputs": [],
   "source": [
    "metadata.image_idx"
   ]
  },
  {
   "cell_type": "code",
   "execution_count": null,
   "id": "dc49e653-fa1e-421d-9be7-c4dc4fc1a0ed",
   "metadata": {},
   "outputs": [],
   "source": [
    "images.shape"
   ]
  },
  {
   "cell_type": "code",
   "execution_count": null,
   "id": "e796bef9-cb36-40c0-a534-d5e5c056ca83",
   "metadata": {},
   "outputs": [],
   "source": [
    "metadata.compound.moa"
   ]
  },
  {
   "cell_type": "code",
   "execution_count": null,
   "id": "cba71ac5-6320-49c0-baf2-e5a3082e3ce9",
   "metadata": {},
   "outputs": [],
   "source": [
    "plots = []\n",
    "\n",
    "for class_name, image in zip(classes, images):\n",
    "    image = image.numpy()\n",
    "    \n",
    "    plot = hv.RGB(image.transpose(1, 2, 0), bounds=(0, 0, image.shape[2], image.shape[1]), label=class_name)\n",
    "    \n",
    "    plots.append(plot)\n",
    "    \n",
    "hv.Layout(plots).cols(2)"
   ]
  },
  {
   "cell_type": "code",
   "execution_count": null,
   "id": "ab5da9ce-bf52-4fc6-8eba-3ad0258c477c",
   "metadata": {},
   "outputs": [],
   "source": []
  }
 ],
 "metadata": {
  "kernelspec": {
   "display_name": "pytorch-hcs",
   "language": "python",
   "name": "pytorch-hcs"
  },
  "language_info": {
   "codemirror_mode": {
    "name": "ipython",
    "version": 3
   },
   "file_extension": ".py",
   "mimetype": "text/x-python",
   "name": "python",
   "nbconvert_exporter": "python",
   "pygments_lexer": "ipython3",
   "version": "3.9.6"
  }
 },
 "nbformat": 4,
 "nbformat_minor": 5
}
