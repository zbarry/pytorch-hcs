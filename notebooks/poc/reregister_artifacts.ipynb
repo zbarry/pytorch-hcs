{
 "cells": [
  {
   "cell_type": "code",
   "execution_count": null,
   "id": "f4b39674-4fb0-44e8-a97c-3709c066788a",
   "metadata": {},
   "outputs": [],
   "source": [
    "%load_ext autoreload\n",
    "%autoreload 2"
   ]
  },
  {
   "cell_type": "code",
   "execution_count": null,
   "id": "84524cc2-27e4-4667-9045-c59c05191634",
   "metadata": {},
   "outputs": [],
   "source": [
    "import wandb"
   ]
  },
  {
   "cell_type": "code",
   "execution_count": null,
   "id": "ca4e9321-2936-478a-889b-0aa041861994",
   "metadata": {},
   "outputs": [],
   "source": [
    "wandb.login()"
   ]
  },
  {
   "cell_type": "code",
   "execution_count": null,
   "id": "c979f5f7-eeca-4e0b-bb1a-de456c2e9576",
   "metadata": {},
   "outputs": [],
   "source": [
    "run = wandb.init(project='pytorch-hcs')"
   ]
  },
  {
   "cell_type": "code",
   "execution_count": null,
   "id": "d0eec015-6b00-4a24-a5ed-65369aa63e20",
   "metadata": {},
   "outputs": [],
   "source": [
    "# to regenerate old results:\n",
    "\n",
    "# model_artifact_ids = {\n",
    "#     \"resnet18\": \"model-1eyyjpad:latest\",\n",
    "#     \"resnet18-moreaug\": \"model-3d5kdlrp:latest\",\n",
    "#     \"resnet18-notpretrained\": \"model-6bsy7dth:latest\",\n",
    "#     \"resnet101\": \"model-3fizb084:latest\",\n",
    "#     \"resnet18-embeddings\": \"model-358i4dhs:latest\",\n",
    "# }\n",
    "\n",
    "model_artifact_ids = {\n",
    "    \"resnet18\": \"model-3d5kdlrp:latest\",\n",
    "    \"resnet101\": \"model-3fizb084:latest\",\n",
    "    \"resnet18-embeddings\": \"model-358i4dhs:latest\",\n",
    "}"
   ]
  },
  {
   "cell_type": "code",
   "execution_count": null,
   "id": "f95a380a-7d32-4414-85f8-2951cb38c847",
   "metadata": {},
   "outputs": [],
   "source": [
    "for name, artifact_id in model_artifact_ids.items():\n",
    "    artifact = run.use_artifact(artifact_id)\n",
    "    artifact_dir = artifact.download()\n",
    "    \n",
    "    ckpt_path = f'{artifact_dir}/model.ckpt'\n",
    "    \n",
    "    artifact = wandb.Artifact(name, type='model')\n",
    "\n",
    "    artifact.add_file(ckpt_path)\n",
    "\n",
    "    run.log_artifact(artifact)"
   ]
  },
  {
   "cell_type": "code",
   "execution_count": null,
   "id": "e90caa50-4624-454b-88ca-27a9e739382b",
   "metadata": {},
   "outputs": [],
   "source": [
    "wandb.finish(0)"
   ]
  },
  {
   "cell_type": "code",
   "execution_count": null,
   "id": "a65f6b26-ff25-4f7e-b508-7bb58710447a",
   "metadata": {},
   "outputs": [],
   "source": []
  }
 ],
 "metadata": {
  "kernelspec": {
   "display_name": "Python 3 (ipykernel)",
   "language": "python",
   "name": "python3"
  },
  "language_info": {
   "codemirror_mode": {
    "name": "ipython",
    "version": 3
   },
   "file_extension": ".py",
   "mimetype": "text/x-python",
   "name": "python",
   "nbconvert_exporter": "python",
   "pygments_lexer": "ipython3",
   "version": "3.9.7"
  }
 },
 "nbformat": 4,
 "nbformat_minor": 5
}
