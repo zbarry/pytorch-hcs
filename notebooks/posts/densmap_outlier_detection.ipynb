{
 "cells": [
  {
   "cell_type": "markdown",
   "id": "bfb1b7f1-b424-4773-9ac9-1ea903d77064",
   "metadata": {},
   "source": [
    "# Detecting outliers in high content screening/imaging datasets with UMAP/densMAP"
   ]
  },
  {
   "cell_type": "markdown",
   "id": "3170b585-c927-4669-bda3-95b86d19b19e",
   "metadata": {},
   "source": [
    "Asdf"
   ]
  },
  {
   "cell_type": "code",
   "execution_count": null,
   "id": "79cf6ee9-83bb-44bd-b694-bfc10e22a09b",
   "metadata": {},
   "outputs": [],
   "source": [
    "%load_ext autoreload\n",
    "%autoreload 2"
   ]
  },
  {
   "cell_type": "code",
   "execution_count": null,
   "id": "5c9e5922-49d5-40ae-8ecc-ff575a50e5b1",
   "metadata": {},
   "outputs": [],
   "source": [
    "from pathlib import Path\n",
    "\n",
    "import holoviews as hv\n",
    "import hvplot.pandas\n",
    "import hvplot.xarray\n",
    "import janitor\n",
    "import numpy as np\n",
    "import pandas as pd\n",
    "import torch\n",
    "import umap\n",
    "import xarray as xr\n",
    "from pytorch_hcs.datasets import BBBC021DataModule\n",
    "from pytorch_hcs.models import ResNet18\n",
    "from pytorch_hcs.vis import set_hv_defaults\n",
    "from tqdm.notebook import tqdm\n",
    "\n",
    "# from pyprojroot import here\n",
    "\n",
    "\n",
    "set_hv_defaults()"
   ]
  },
  {
   "cell_type": "markdown",
   "id": "50471ae6-0059-4a39-bb4c-626c977dcf73",
   "metadata": {},
   "source": [
    "# Log into Weights & Biases to download model artifact"
   ]
  },
  {
   "cell_type": "code",
   "execution_count": null,
   "id": "0918310f-e365-430b-adcd-e75d1d045985",
   "metadata": {},
   "outputs": [],
   "source": [
    "import wandb\n",
    "\n",
    "wandb.login()\n",
    "run = wandb.init()"
   ]
  },
  {
   "cell_type": "markdown",
   "id": "02af6a26-d309-479e-814f-716d9a8d4f44",
   "metadata": {},
   "source": [
    "# Set compute device"
   ]
  },
  {
   "cell_type": "code",
   "execution_count": null,
   "id": "a852ace9-c41f-4679-9d8b-bce9cd93a50f",
   "metadata": {},
   "outputs": [],
   "source": [
    "DEVICE = \"cuda\"\n",
    "# DEVICE = 'cpu'"
   ]
  },
  {
   "cell_type": "markdown",
   "id": "284d6ac2-ab4a-4c2b-8bbf-cbbb5bc43334",
   "metadata": {},
   "source": [
    "# Set up the PyTorch-Lightning data module\n",
    "\n",
    "This manages the dataloaders"
   ]
  },
  {
   "cell_type": "code",
   "execution_count": null,
   "id": "a3af926a-ab6b-4549-a022-3e18db7c6361",
   "metadata": {},
   "outputs": [],
   "source": [
    "dm = BBBC021DataModule(\n",
    "    num_workers=8,\n",
    "    tv_batch_size=16,\n",
    "    t_batch_size=16,\n",
    ")\n",
    "\n",
    "dm.setup()"
   ]
  },
  {
   "cell_type": "markdown",
   "id": "daf171e7-c2e9-42ca-950f-d3f2b88329fb",
   "metadata": {},
   "source": [
    "# Load trained ResNet18"
   ]
  },
  {
   "cell_type": "code",
   "execution_count": null,
   "id": "00067175-5121-4162-95d8-f806922786e6",
   "metadata": {},
   "outputs": [],
   "source": [
    "artifact_id = \"model-3d5kdlrp:v0\"  # resnet18-moreaug model\n",
    "model_cls = ResNet18"
   ]
  },
  {
   "cell_type": "code",
   "execution_count": null,
   "id": "68a1ea48-56ea-4b8e-8b12-5e504ecb81d0",
   "metadata": {},
   "outputs": [],
   "source": [
    "artifact = run.use_artifact(f\"zbarry/pytorch-hcs/{artifact_id}\", type=\"model\")\n",
    "\n",
    "artifact_dir = artifact.download()\n",
    "\n",
    "ckpt_path = Path(f\"{artifact_dir}/model.ckpt\")\n",
    "\n",
    "assert ckpt_path.exists()"
   ]
  },
  {
   "cell_type": "markdown",
   "id": "e73a3f01-66ae-4556-8890-78f431e4339d",
   "metadata": {},
   "source": [
    "We load two models here - a ResNet trained on ImageNet, and one trained on BBBC021"
   ]
  },
  {
   "cell_type": "code",
   "execution_count": null,
   "id": "60577a68-b44c-4f70-b0cc-c13a021c54a2",
   "metadata": {
    "tags": []
   },
   "outputs": [],
   "source": [
    "model_bbbc021 = (\n",
    "    model_cls.load_from_checkpoint(str(ckpt_path)).eval().to(DEVICE)\n",
    ")\n",
    "model_imagenet = (\n",
    "    model_cls(num_classes=dm.num_classes, pretrained=True).eval().to(DEVICE)\n",
    ")"
   ]
  },
  {
   "cell_type": "markdown",
   "id": "e04662f6-911c-4aaa-86ea-daf48a95fca6",
   "metadata": {},
   "source": [
    "# Extract image features\n",
    "\n",
    "We use the entirety of the BBBC021 dataset here, including ones with unknown MoAs."
   ]
  },
  {
   "cell_type": "code",
   "execution_count": null,
   "id": "114c5d5a-1250-400b-986c-62f02a9993c3",
   "metadata": {},
   "outputs": [],
   "source": [
    "# all_dataset, all_dataloader are not in the PyTorch-Lightning spec\n",
    "\n",
    "dataset = dm.all_dataset\n",
    "\n",
    "dataloader = dm.all_dataloader()"
   ]
  },
  {
   "cell_type": "code",
   "execution_count": null,
   "id": "2d254b3b-ad00-4c1d-9945-9abafbb1a125",
   "metadata": {},
   "outputs": [],
   "source": [
    "ResNet18??"
   ]
  },
  {
   "cell_type": "code",
   "execution_count": null,
   "id": "0aee12bc-8347-4db6-a602-7e281a6fbe6f",
   "metadata": {},
   "outputs": [],
   "source": [
    "model_imagenet.forward??"
   ]
  },
  {
   "cell_type": "code",
   "execution_count": null,
   "id": "006c6508-77db-4268-b589-834daf307aad",
   "metadata": {},
   "outputs": [],
   "source": [
    "model_imagenet.compute_features??"
   ]
  },
  {
   "cell_type": "code",
   "execution_count": null,
   "id": "bb35298b-6d17-4fca-87f8-2ea5e5289790",
   "metadata": {},
   "outputs": [],
   "source": [
    "features_bbbc021 = []\n",
    "features_imagenet = []\n",
    "\n",
    "with torch.no_grad():\n",
    "    for image_batch, _, _ in tqdm(dataloader):\n",
    "        # features from our BBBC021-trained model\n",
    "\n",
    "        features_batch = np.array(\n",
    "            model_bbbc021.compute_features(image_batch.to(DEVICE)).cpu()\n",
    "        )\n",
    "\n",
    "        features_bbbc021.append(features_batch)\n",
    "\n",
    "        # features from ImageNet-trained model\n",
    "\n",
    "        features_batch = np.array(\n",
    "            model_imagenet.compute_features(image_batch.to(DEVICE)).cpu()\n",
    "        )\n",
    "\n",
    "        features_imagenet.append(features_batch)\n",
    "\n",
    "features_bbbc021 = np.concatenate(features_bbbc021, axis=0)\n",
    "features_imagenet = np.concatenate(features_imagenet, axis=0)"
   ]
  },
  {
   "cell_type": "code",
   "execution_count": null,
   "id": "1c46aa50-1e38-4227-ad28-906c3181d6bc",
   "metadata": {},
   "outputs": [],
   "source": [
    "dataset.class_to_label"
   ]
  },
  {
   "cell_type": "code",
   "execution_count": null,
   "id": "07df731d-e490-4a05-95b7-7a96e0488831",
   "metadata": {},
   "outputs": [],
   "source": [
    "image_df = dataset.image_df.transform_column(\n",
    "    \"moa\", lambda class_name: dataset.class_to_label[class_name], \"moa_label\"\n",
    ")\n",
    "\n",
    "image_df"
   ]
  },
  {
   "cell_type": "markdown",
   "id": "05b15d40-ca81-4c6b-aace-cb61a0dfe086",
   "metadata": {},
   "source": [
    "# Perform UMAP / densMAP dimensionality reduction"
   ]
  },
  {
   "cell_type": "markdown",
   "id": "b3f3e3d0-645c-47cb-85b3-940493b285b1",
   "metadata": {},
   "source": [
    "https://pair-code.github.io/understanding-umap\n",
    "\n",
    "densMAP explanation / paper reference"
   ]
  },
  {
   "cell_type": "code",
   "execution_count": null,
   "id": "6cb8b0d0-5144-4259-b85d-0c2fb30d3ac4",
   "metadata": {},
   "outputs": [],
   "source": [
    "from itertools import product"
   ]
  },
  {
   "cell_type": "code",
   "execution_count": null,
   "id": "dba98a9a-1301-40ab-af77-e80b01e621d4",
   "metadata": {},
   "outputs": [],
   "source": [
    "params = dict(\n",
    "    datasets=[(\"BBBC021\", features_bbbc021), (\"ImageNet\", features_imagenet)],\n",
    "    metrics=[\"euclidean\", \"cosine\"],\n",
    "    densmap=[False, True],\n",
    ")\n",
    "\n",
    "embedding_dfs = []\n",
    "\n",
    "for (dataset_name, features), metric, densmap in tqdm(\n",
    "    product(\n",
    "        params[\"datasets\"],\n",
    "        params[\"metrics\"],\n",
    "        params[\"densmap\"],\n",
    "    ),\n",
    "    total=np.prod([len(lst) for lst in params.values()]),\n",
    "):\n",
    "    reducer = umap.UMAP(\n",
    "        metric=metric,\n",
    "        n_neighbors=500,\n",
    "        min_dist=0.0,\n",
    "        n_components=2,\n",
    "        random_state=42,\n",
    "        densmap=densmap,\n",
    "    )\n",
    "\n",
    "    vis_embedding = reducer.fit_transform(\n",
    "        features.reshape(features.shape[0], -1),\n",
    "    )\n",
    "\n",
    "    embedding_df = (\n",
    "        pd.concat(\n",
    "            [\n",
    "                dataset.image_df.reset_index(drop=True),\n",
    "                pd.DataFrame(vis_embedding, columns=[\"umap_x\", \"umap_y\"]),\n",
    "            ],\n",
    "            axis=1,\n",
    "        )\n",
    "        .add_columns(\n",
    "            dataset=dataset_name,\n",
    "            metric=metric,\n",
    "            densmap=densmap,\n",
    "        )\n",
    "        .reorder_columns([\"dataset\", \"metric\", \"densmap\"])\n",
    "    )\n",
    "\n",
    "    embedding_dfs.append(embedding_df)\n",
    "\n",
    "all_embedding_df = pd.concat(embedding_dfs, ignore_index=True).astype(\n",
    "    dict(dataset=\"category\", metric=\"category\", concentration=float)\n",
    ")\n",
    "all_embedding_df"
   ]
  },
  {
   "cell_type": "markdown",
   "id": "9eca03ac-dc9c-45d6-925e-96e9ab84106d",
   "metadata": {},
   "source": [
    "# Visualize UMAP embeddings\n",
    "\n",
    "Note that we're only visualizing images from compounds with known MoA.\n",
    "Points are colored by MoA."
   ]
  },
  {
   "cell_type": "code",
   "execution_count": null,
   "id": "07bc6454-2a75-453c-ba11-6177ac9d062e",
   "metadata": {},
   "outputs": [],
   "source": [
    "hover_cols = [\n",
    "    \"image_idx\",\n",
    "    \"moa\",\n",
    "    \"compound\",\n",
    "    \"concentration\",\n",
    "]\n",
    "\n",
    "groups = [\"weights\", \"metric\", \"densmap\"]\n",
    "\n",
    "kwargs = dict(\n",
    "    x=\"umap_x\",\n",
    "    y=\"umap_y\",\n",
    "    hover_cols=hover_cols,\n",
    "    alpha=0.25,\n",
    "    aspect=\"equal\",\n",
    "    cmap=\"glasbey\",\n",
    "    colorbar=False,\n",
    "    width=900,\n",
    "    height=550,\n",
    ")\n",
    "\n",
    "(\n",
    "    all_embedding_df.rename_column(\"dataset\", \"weights\")\n",
    "    .query('moa != \"null\"')\n",
    "    .hvplot.scatter(\n",
    "        c=\"moa\",\n",
    "        title=\"UMAP embedding | {dimensions}\",\n",
    "        groupby=groups,\n",
    "        **kwargs\n",
    "    )\n",
    "    .opts(fontsize=dict(title=10))\n",
    "    .layout(groups)\n",
    "    .cols(2)\n",
    "    .opts(\n",
    "        shared_axes=False,\n",
    "    )\n",
    ")"
   ]
  },
  {
   "cell_type": "markdown",
   "id": "47e2b455-dc76-45d0-a1d7-4268465b3aff",
   "metadata": {},
   "source": [
    "# Calculate average nearest neighbor distance for each point"
   ]
  },
  {
   "cell_type": "code",
   "execution_count": null,
   "id": "2bb8d577-edac-4e44-8847-a5a62ae6764c",
   "metadata": {},
   "outputs": [],
   "source": [
    "embedding_df = (\n",
    "    all_embedding_df.query(\n",
    "        'dataset == \"BBBC021\" and metric == \"cosine\" and densmap == True'\n",
    "    )\n",
    "    .copy()\n",
    "    .reset_index(drop=True)\n",
    ")\n",
    "\n",
    "embedding_df"
   ]
  },
  {
   "cell_type": "code",
   "execution_count": null,
   "id": "885becbd-c5d2-4678-a4e8-fdda0a1aad5d",
   "metadata": {},
   "outputs": [],
   "source": [
    "def ecdf(data):\n",
    "    data_sorted = np.sort(data)\n",
    "\n",
    "    # calculate the proportional values of samples\n",
    "    p = np.arange(len(data)) / (len(data) - 1)\n",
    "\n",
    "    return data_sorted, p"
   ]
  },
  {
   "cell_type": "code",
   "execution_count": null,
   "id": "1f37fbad-b979-4605-b62b-e2759b0d4f82",
   "metadata": {},
   "outputs": [],
   "source": [
    "from sklearn.neighbors import NearestNeighbors\n",
    "\n",
    "nbrs = NearestNeighbors(n_neighbors=8)\n",
    "nbrs.fit(embedding_df[[\"umap_x\", \"umap_y\"]])\n",
    "\n",
    "distances, indexes = nbrs.kneighbors(embedding_df[[\"umap_x\", \"umap_y\"]])\n",
    "\n",
    "distances = distances[:, 1:]\n",
    "\n",
    "avg_distances = distances.mean(1)\n",
    "\n",
    "labeled_embedding_df = embedding_df.add_columns(\n",
    "    outlier_score=avg_distances,\n",
    ")"
   ]
  },
  {
   "cell_type": "code",
   "execution_count": null,
   "id": "7feef493-3298-4b12-9611-7dadc541e8e6",
   "metadata": {},
   "outputs": [],
   "source": [
    "cdf_x, cdf_y = ecdf(avg_distances)\n",
    "\n",
    "(\n",
    "    hv.Curve(\n",
    "        avg_distances,\n",
    "        kdims=\"BBBC021 image index\",\n",
    "        vdims=\"distance\",\n",
    "        label=\"Average kNN distance for BBBC021 image UMAP projections\",\n",
    "    ).opts(width=1000)\n",
    "    + hv.Histogram(\n",
    "        np.histogram(avg_distances, bins=200), kdims=\"distance\"\n",
    "    ).opts(width=1000)\n",
    "    + hv.Curve((cdf_x, cdf_y), kdims=\"distance\", vdims=\"ECDF\").opts(width=1000)\n",
    ").cols(1)"
   ]
  },
  {
   "cell_type": "code",
   "execution_count": null,
   "id": "d70d5226-b853-4f93-9e26-d719cd910931",
   "metadata": {},
   "outputs": [],
   "source": [
    "kwargs_ = kwargs.copy()\n",
    "kwargs_.pop(\"cmap\")\n",
    "kwargs_.pop(\"colorbar\")\n",
    "kwargs_.pop(\"alpha\")\n",
    "\n",
    "(\n",
    "    labeled_embedding_df.hvplot.scatter(\n",
    "        c=\"outlier_score\",\n",
    "        title=\"Average kNN distance\",\n",
    "        cmap=\"jet\",\n",
    "        colorbar=True,\n",
    "        logz=True,\n",
    "        alpha=0.5,\n",
    "        **kwargs_\n",
    "    )\n",
    ")"
   ]
  },
  {
   "cell_type": "markdown",
   "id": "a6bc9c52-7d6d-4ca1-bc74-cfac73ee9c89",
   "metadata": {},
   "source": [
    "# Visualize the images in order of decreasing average NN distance"
   ]
  },
  {
   "cell_type": "code",
   "execution_count": null,
   "id": "9552ab84-7bf5-4802-b2cc-cdcd5f402c9b",
   "metadata": {},
   "outputs": [],
   "source": [
    "from pybbbc import BBBC021\n",
    "\n",
    "bbbc021 = BBBC021()"
   ]
  },
  {
   "cell_type": "code",
   "execution_count": null,
   "id": "31320544-b7ff-4f6b-82f3-7f2374aab153",
   "metadata": {},
   "outputs": [],
   "source": [
    "outlier_df = labeled_embedding_df.sort_values(\"outlier_score\", ascending=False)\n",
    "\n",
    "outlier_order = outlier_df[\"image_idx\"].values\n",
    "outlier_scores = outlier_df[\"outlier_score\"].values\n",
    "\n",
    "\n",
    "def make_layout(image_idx):\n",
    "    image, metadata = bbbc021[outlier_order[image_idx]]\n",
    "\n",
    "    #     prefix = f\"{metadata.compound.compound} @ {metadata.compound.concentration:.2e} μM, {metadata.compound.moa}\"\n",
    "\n",
    "    prefix = f\"{metadata.compound.compound}, {metadata.compound.moa}, {outlier_scores[image_idx]}\"\n",
    "\n",
    "    plots = []\n",
    "\n",
    "    cmaps = [\"fire\", \"kg\", \"kb\"]\n",
    "\n",
    "    for channel_idx, im_channel in enumerate(image):\n",
    "        plot = hv.Image(\n",
    "            im_channel,\n",
    "            bounds=(0, 0, im_channel.shape[1], im_channel.shape[0]),\n",
    "            label=f\"{prefix} | {bbbc021.CHANNELS[channel_idx]}\",\n",
    "        ).opts(cmap=cmaps[channel_idx])\n",
    "        plots.append(plot)\n",
    "\n",
    "    plots.append(\n",
    "        hv.RGB(\n",
    "            image.transpose(1, 2, 0),\n",
    "            bounds=(0, 0, im_channel.shape[1], im_channel.shape[0]),\n",
    "            label=\"Channel overlay\",\n",
    "        )\n",
    "    )\n",
    "\n",
    "    return hv.Layout(plots).cols(2)\n",
    "\n",
    "\n",
    "hv.DynamicMap(make_layout, kdims=\"image\").redim.range(\n",
    "    image=(0, len(bbbc021) - 1)\n",
    ")"
   ]
  },
  {
   "cell_type": "code",
   "execution_count": null,
   "id": "11f24829-72a5-45ab-933c-000a247172f0",
   "metadata": {},
   "outputs": [],
   "source": []
  }
 ],
 "metadata": {
  "kernelspec": {
   "display_name": "Python 3 (ipykernel)",
   "language": "python",
   "name": "python3"
  },
  "language_info": {
   "codemirror_mode": {
    "name": "ipython",
    "version": 3
   },
   "file_extension": ".py",
   "mimetype": "text/x-python",
   "name": "python",
   "nbconvert_exporter": "python",
   "pygments_lexer": "ipython3",
   "version": "3.9.7"
  }
 },
 "nbformat": 4,
 "nbformat_minor": 5
}
