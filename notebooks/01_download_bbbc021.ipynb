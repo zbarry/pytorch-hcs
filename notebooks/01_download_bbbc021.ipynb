{
 "cells": [
  {
   "cell_type": "markdown",
   "id": "81f9bf5b-e4b9-41dc-ab0b-8235640e6685",
   "metadata": {},
   "source": [
    "# Download the BBBC021 dataset"
   ]
  },
  {
   "cell_type": "code",
   "execution_count": null,
   "id": "8c4a4d4c-93ae-4bfd-94fd-77313ecd5721",
   "metadata": {},
   "outputs": [],
   "source": [
    "%load_ext autoreload\n",
    "%autoreload 2"
   ]
  },
  {
   "cell_type": "code",
   "execution_count": null,
   "id": "f69d594f-3a4d-4825-b5cc-2031d5e4d9c0",
   "metadata": {},
   "outputs": [],
   "source": [
    "from pybbbc import BBBC021"
   ]
  },
  {
   "cell_type": "markdown",
   "id": "32a90538-2299-4760-aecd-2ce8da71b52c",
   "metadata": {},
   "source": [
    "## Raw data download"
   ]
  },
  {
   "cell_type": "markdown",
   "id": "1b8ddfc0-7f4b-412c-beb1-44f1572fcedf",
   "metadata": {},
   "source": [
    "Default download path is `~/.cache/`.\n",
    "It can be changed via the `root_path` keyword argument for `.download()`, `.make_dataset()`, and `BBBC021()`."
   ]
  },
  {
   "cell_type": "code",
   "execution_count": null,
   "id": "341d4edd-caef-4fd9-8c29-97d420df7434",
   "metadata": {},
   "outputs": [],
   "source": [
    "BBBC021.download()"
   ]
  },
  {
   "cell_type": "markdown",
   "id": "c694a92f-a4e0-48ed-b047-17623daa8cc9",
   "metadata": {},
   "source": [
    "Scale `max_workers` to the max your CPU + available memory capacity can handle."
   ]
  },
  {
   "cell_type": "markdown",
   "id": "c70abc3b-f0be-4736-aab4-80bb33983b03",
   "metadata": {},
   "source": [
    "## Make the dataset"
   ]
  },
  {
   "cell_type": "code",
   "execution_count": null,
   "id": "1c99f9e1-7e7b-4310-bc45-fb8b761c73fa",
   "metadata": {},
   "outputs": [],
   "source": [
    "BBBC021.make_dataset(max_workers=2)"
   ]
  },
  {
   "cell_type": "markdown",
   "id": "0e238bd0-0377-4bce-981e-9aa1d8417969",
   "metadata": {},
   "source": [
    "## Test that we can load an image from the dataset"
   ]
  },
  {
   "cell_type": "code",
   "execution_count": null,
   "id": "29c874b0-9721-4f82-b129-e59d90ae8bc5",
   "metadata": {},
   "outputs": [],
   "source": [
    "bbbc021 = BBBC021()"
   ]
  },
  {
   "cell_type": "code",
   "execution_count": null,
   "id": "5245c44d-908e-42ee-9e26-90c040552db4",
   "metadata": {},
   "outputs": [],
   "source": [
    "bbbc021[0]"
   ]
  }
 ],
 "metadata": {
  "kernelspec": {
   "display_name": "Python 3 (ipykernel)",
   "language": "python",
   "name": "python3"
  },
  "language_info": {
   "codemirror_mode": {
    "name": "ipython",
    "version": 3
   },
   "file_extension": ".py",
   "mimetype": "text/x-python",
   "name": "python",
   "nbconvert_exporter": "python",
   "pygments_lexer": "ipython3",
   "version": "3.9.7"
  }
 },
 "nbformat": 4,
 "nbformat_minor": 5
}
