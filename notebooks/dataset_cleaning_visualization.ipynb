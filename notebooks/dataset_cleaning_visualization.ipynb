{
 "cells": [
  {
   "cell_type": "markdown",
   "id": "f7ac40d9-aea9-43c5-8f4a-a6255da45668",
   "metadata": {},
   "source": [
    "# Identify bad images in training / validation sets"
   ]
  },
  {
   "cell_type": "code",
   "execution_count": null,
   "id": "a2dac847-3768-4baa-aaf9-df286654ada2",
   "metadata": {},
   "outputs": [],
   "source": [
    "%load_ext autoreload\n",
    "%autoreload 2"
   ]
  },
  {
   "cell_type": "code",
   "execution_count": null,
   "id": "51fd9bb6-2e77-4951-b59f-7458bcbce65d",
   "metadata": {},
   "outputs": [],
   "source": [
    "import holoviews as hv\n",
    "import janitor\n",
    "import numpy as np\n",
    "import pandas as pd\n",
    "import panel as pn\n",
    "from pytorch_hcs.vis import set_hv_defaults\n",
    "\n",
    "from pybbbc import BBBC021\n",
    "\n",
    "set_hv_defaults()"
   ]
  },
  {
   "cell_type": "code",
   "execution_count": null,
   "id": "bec83976-24d5-451f-8ca4-0862556daa20",
   "metadata": {},
   "outputs": [],
   "source": [
    "from pybbbc import BBBC021\n",
    "\n",
    "bbbc021 = BBBC021(moa=[moa for moa in BBBC021.MOA if moa != \"null\"])"
   ]
  },
  {
   "cell_type": "code",
   "execution_count": null,
   "id": "a8f8c608-a8aa-47e1-8afc-980c0372eebd",
   "metadata": {},
   "outputs": [],
   "source": [
    "image_df = bbbc021.image_df\n",
    "image_df"
   ]
  },
  {
   "cell_type": "markdown",
   "id": "65560eb3-9554-4441-94f0-0bcf1206230b",
   "metadata": {},
   "source": [
    "Absolute image indices so we can map these images back to the original, unfiltered BBBC021 dataset which includes null MoA images."
   ]
  },
  {
   "cell_type": "code",
   "execution_count": null,
   "id": "2ab33813-35fd-438a-b022-88c47753e25a",
   "metadata": {},
   "outputs": [],
   "source": [
    "abs_image_idcs = bbbc021.image_df[\"image_idx\"].values\n",
    "abs_image_idcs"
   ]
  },
  {
   "cell_type": "code",
   "execution_count": null,
   "id": "555f22ee-1e6c-44e6-b9bd-dd5b950b04ee",
   "metadata": {},
   "outputs": [],
   "source": [
    "from holoviews.streams import Stream, param"
   ]
  },
  {
   "cell_type": "code",
   "execution_count": null,
   "id": "4d61e212-8356-4918-b423-721b5108a2ec",
   "metadata": {},
   "outputs": [],
   "source": [
    "# quality_df = pd.DataFrame(\n",
    "#     dict(\n",
    "#         image_idx=abs_image_idcs,\n",
    "#         quality=pd.Categorical(len(abs_image_idcs)*['unclassified'], categories=[\"good\", \"bad\", \"unclassified\"]),\n",
    "#     )\n",
    "# )\n",
    "\n",
    "quality_df = pd.read_parquet(\"data/image_quality_classification.parquet\")\n",
    "\n",
    "quality_df"
   ]
  },
  {
   "cell_type": "code",
   "execution_count": null,
   "id": "b00d7bb3-c731-414e-bcf0-0c602629324d",
   "metadata": {},
   "outputs": [],
   "source": [
    "def make_layout(image_idx):\n",
    "    image, metadata = bbbc021[image_idx]\n",
    "\n",
    "    quality = quality_df.iloc[image_idx][\"quality\"]\n",
    "\n",
    "    label = f\"idx: {abs_image_idcs[image_idx]} | {quality}\"\n",
    "\n",
    "    plots = []\n",
    "\n",
    "    cmaps = [\"fire\", \"kg\", \"kb\"]\n",
    "\n",
    "    for channel_idx, im_channel in enumerate(image):\n",
    "        plot = hv.Image(\n",
    "            im_channel,\n",
    "            bounds=(0, 0, im_channel.shape[1], im_channel.shape[0]),\n",
    "            label=f\"{label} | {bbbc021.CHANNELS[channel_idx]}\",\n",
    "        ).opts(cmap=cmaps[channel_idx])\n",
    "        plots.append(plot)\n",
    "\n",
    "    plots.append(\n",
    "        hv.RGB(\n",
    "            image.transpose(1, 2, 0),\n",
    "            bounds=(0, 0, im_channel.shape[1], im_channel.shape[0]),\n",
    "            label=\"Channel overlay\",\n",
    "        )\n",
    "    )\n",
    "\n",
    "    return hv.Layout(plots).cols(2)\n",
    "\n",
    "\n",
    "previous_btn = pn.widgets.Button(name=\"Previous Image\")\n",
    "next_btn = pn.widgets.Button(name=\"Next Image\")\n",
    "good_btn = pn.widgets.Button(name=\"Good\", button_type=\"success\")\n",
    "bad_btn = pn.widgets.Button(name=\"Bad\", button_type=\"danger\")\n",
    "\n",
    "image_idx_slider = pn.widgets.IntSlider(\n",
    "    name=\"image_idx\", value=0, start=0, end=len(abs_image_idcs) - 1\n",
    ")\n",
    "\n",
    "\n",
    "def previous_callback(_):\n",
    "    image_idx_slider.value -= 1\n",
    "\n",
    "\n",
    "def next_callback(_):\n",
    "    image_idx_slider.value += 1\n",
    "\n",
    "\n",
    "def good_callback(_):\n",
    "    cur_image_idx = image_idx_slider.value\n",
    "\n",
    "    quality_df[\"quality\"].iloc[cur_image_idx] = \"good\"\n",
    "\n",
    "    image_idx_slider.value += 1\n",
    "\n",
    "\n",
    "def bad_callback(_):\n",
    "    cur_image_idx = image_idx_slider.value\n",
    "\n",
    "    quality_df[\"quality\"].iloc[cur_image_idx] = \"bad\"\n",
    "\n",
    "    image_idx_slider.value += 1\n",
    "\n",
    "\n",
    "previous_btn.on_click(previous_callback)\n",
    "next_btn.on_click(next_callback)\n",
    "good_btn.on_click(good_callback)\n",
    "bad_btn.on_click(bad_callback)\n",
    "\n",
    "pane = pn.Column(\n",
    "    hv.DynamicMap(pn.bind(make_layout, image_idx_slider, watch=True)).opts(\n",
    "        hv.opts.RGB(frame_width=550), hv.opts.Image(frame_width=550)\n",
    "    ),\n",
    "    image_idx_slider,\n",
    "    pn.Row(\n",
    "        previous_btn,\n",
    "        next_btn,\n",
    "        good_btn,\n",
    "        bad_btn,\n",
    "    ),\n",
    ")\n",
    "\n",
    "pane"
   ]
  },
  {
   "cell_type": "code",
   "execution_count": null,
   "id": "e24f5df6-74d4-4a6e-9114-60ef460bf590",
   "metadata": {},
   "outputs": [],
   "source": [
    "# quality_df.to_parquet('data/image_quality_classification.parquet')"
   ]
  },
  {
   "cell_type": "code",
   "execution_count": null,
   "id": "284cf056-97ef-4e86-a2aa-2ecf4c0ba91b",
   "metadata": {},
   "outputs": [],
   "source": [
    "bad_idcs = quality_df.query('quality == \"bad\"')[\"image_idx\"].values\n",
    "bad_idcs"
   ]
  }
 ],
 "metadata": {
  "kernelspec": {
   "display_name": "pytorch-hcs",
   "language": "python",
   "name": "pytorch-hcs"
  },
  "language_info": {
   "codemirror_mode": {
    "name": "ipython",
    "version": 3
   },
   "file_extension": ".py",
   "mimetype": "text/x-python",
   "name": "python",
   "nbconvert_exporter": "python",
   "pygments_lexer": "ipython3",
   "version": "3.9.7"
  }
 },
 "nbformat": 4,
 "nbformat_minor": 5
}
