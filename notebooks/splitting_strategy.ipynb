{
 "cells": [
  {
   "cell_type": "code",
   "execution_count": null,
   "id": "30acf34c-2e0a-4011-9c6b-3f82fd6e05e1",
   "metadata": {},
   "outputs": [],
   "source": [
    "%load_ext autoreload\n",
    "%autoreload 2"
   ]
  },
  {
   "cell_type": "code",
   "execution_count": null,
   "id": "473a4bd4-8bba-4923-8b23-0c92eef9ae50",
   "metadata": {},
   "outputs": [],
   "source": [
    "import janitor\n",
    "import numpy as np\n",
    "import pandas as pd\n",
    "\n",
    "from pybbbc import BBBC021"
   ]
  },
  {
   "cell_type": "code",
   "execution_count": null,
   "id": "38e5d451-669e-4f94-9214-e84ee3ecdab3",
   "metadata": {},
   "outputs": [],
   "source": [
    "bbbc021 = BBBC021(moa=[moa for moa in BBBC021.MOA if moa != \"null\"])"
   ]
  },
  {
   "cell_type": "code",
   "execution_count": null,
   "id": "5bfdb035-d420-4b7b-a3ed-7ac0be68f679",
   "metadata": {},
   "outputs": [],
   "source": [
    "bbbc021.moa_df[[\"compound\", \"moa\"]].query('moa != \"null\"').drop_duplicates().groupby(\n",
    "    \"moa\"\n",
    ").count()"
   ]
  },
  {
   "cell_type": "markdown",
   "id": "3f1f7fd1-4d2e-41ba-8d2d-a7688db05725",
   "metadata": {},
   "source": [
    "# Splitting strategy\n",
    "\n",
    "* Training and validation sets get at least one compound a piece\n",
    "* Training set gets the compound with the most images, followed by validation, then test set\n",
    "* The test set will not have a compound for Eg5 inhibitor or cholesterol-lowering MoAs\n",
    "* MoAs with 4 compounds will have two sent to training set\n",
    "* DMSO will be split as closely to the desired ratio as possible"
   ]
  },
  {
   "cell_type": "code",
   "execution_count": null,
   "id": "01f25bda-efbc-4b18-b2f4-a1041c8f90c0",
   "metadata": {},
   "outputs": [],
   "source": [
    "plates = bbbc021.image_df[\"plate\"].unique()\n",
    "plates"
   ]
  },
  {
   "cell_type": "code",
   "execution_count": null,
   "id": "1eb70aca-18bd-472f-b4df-18eb6c22e3ea",
   "metadata": {},
   "outputs": [],
   "source": [
    "num_plates = len(plates)\n",
    "num_plates"
   ]
  },
  {
   "cell_type": "code",
   "execution_count": null,
   "id": "3db9cd0b-22cf-4a67-8e6b-787650fde336",
   "metadata": {},
   "outputs": [],
   "source": [
    "cdf = np.linspace(0, 1, 55)\n",
    "cdf"
   ]
  },
  {
   "cell_type": "code",
   "execution_count": null,
   "id": "6fb49c2f-8322-423b-ab03-d80bf5f7451b",
   "metadata": {},
   "outputs": [],
   "source": [
    "dmso_train_frac = 0.5\n",
    "dmso_val_frac = 0.35"
   ]
  },
  {
   "cell_type": "code",
   "execution_count": null,
   "id": "598ee6cb-a2ed-4134-b839-1fd592f5486c",
   "metadata": {},
   "outputs": [],
   "source": [
    "train_stop_idx = np.flatnonzero(cdf <= dmso_train_frac)[-1] + 1\n",
    "val_stop_idx = np.flatnonzero(cdf <= dmso_train_frac + dmso_val_frac)[-1] + 1"
   ]
  },
  {
   "cell_type": "code",
   "execution_count": null,
   "id": "9025edf1-ac82-4d8a-92e5-6cf722454e21",
   "metadata": {},
   "outputs": [],
   "source": [
    "train_plates = plates[:train_stop_idx]\n",
    "val_plates = plates[train_stop_idx:val_stop_idx]\n",
    "test_plates = plates[val_stop_idx:]\n",
    "\n",
    "train_plates, val_plates, test_plates"
   ]
  },
  {
   "cell_type": "code",
   "execution_count": null,
   "id": "7872b71c-201d-429d-9daf-9b14f8233af7",
   "metadata": {},
   "outputs": [],
   "source": [
    "train_dmso_idcs = bbbc021.image_df.query(\n",
    "    'plate in @train_plates and compound == \"DMSO\"'\n",
    ")['image_idx'].values\n",
    "val_dmso_idcs = bbbc021.image_df.query(\n",
    "    'plate in @val_plates and compound == \"DMSO\"'\n",
    ")['image_idx'].values\n",
    "test_dmso_idcs = bbbc021.image_df.query(\n",
    "    'plate in @test_plates and compound == \"DMSO\"'\n",
    ")['image_idx'].values"
   ]
  },
  {
   "cell_type": "code",
   "execution_count": null,
   "id": "9f143f5f-a4ce-4e64-abb9-39b5933aa5aa",
   "metadata": {},
   "outputs": [],
   "source": [
    "cmpd_im_count_df = (\n",
    "    bbbc021.image_df.query('compound != \"DMSO\"')\n",
    "    .groupby([\"compound\", \"moa\"])[\"site\"]\n",
    "    .count()\n",
    "    .to_frame(\"num_images\")\n",
    "    .query(\"num_images > 0\")\n",
    "    .reset_index()\n",
    "    .sort_values([\"moa\", \"num_images\"], ascending=[True, False])\n",
    ")\n",
    "\n",
    "train_compounds = []\n",
    "val_compounds = []\n",
    "test_compounds = []\n",
    "\n",
    "for moa, cur_moa_df in cmpd_im_count_df.groupby(\"moa\"):\n",
    "    if len(cur_moa_df) == 0:\n",
    "        continue\n",
    "\n",
    "    train_compounds.append(cur_moa_df.iloc[0][\"compound\"])\n",
    "    val_compounds.append(cur_moa_df.iloc[1][\"compound\"])\n",
    "\n",
    "    try:\n",
    "        test_compounds.append(cur_moa_df.iloc[2][\"compound\"])\n",
    "        train_compounds.append(cur_moa_df.iloc[3][\"compound\"])\n",
    "    except IndexError:\n",
    "        pass\n",
    "\n",
    "\n",
    "def fetch_compound_idcs(compounds) -> np.ndarray:\n",
    "    return bbbc021.image_df.query(\"compound in @compounds\")[\"image_idx\"].values\n",
    "\n",
    "\n",
    "train_compound_idcs = fetch_compound_idcs(train_compounds)\n",
    "val_compound_idcs = fetch_compound_idcs(val_compounds)\n",
    "test_compound_idcs = fetch_compound_idcs(test_compounds)"
   ]
  },
  {
   "cell_type": "code",
   "execution_count": null,
   "id": "a8d1f530-93cd-4a14-a477-2c5c166ec000",
   "metadata": {},
   "outputs": [],
   "source": [
    "train_idcs = np.concatenate((train_compound_idcs, train_dmso_idcs))\n",
    "train_idcs.sort()\n",
    "\n",
    "val_idcs = np.concatenate((val_compound_idcs, val_dmso_idcs))\n",
    "val_idcs.sort()\n",
    "\n",
    "test_idcs = np.concatenate((test_compound_idcs, test_dmso_idcs))\n",
    "test_idcs.sort()\n",
    "\n"
   ]
  },
  {
   "cell_type": "code",
   "execution_count": null,
   "id": "f0a32725-79d2-4fb8-b845-9cc1522ac0ee",
   "metadata": {},
   "outputs": [],
   "source": [
    "len(train_idcs), len(val_idcs), len(test_idcs)"
   ]
  }
 ],
 "metadata": {
  "kernelspec": {
   "display_name": "pytorch-hcs",
   "language": "python",
   "name": "pytorch-hcs"
  },
  "language_info": {
   "codemirror_mode": {
    "name": "ipython",
    "version": 3
   },
   "file_extension": ".py",
   "mimetype": "text/x-python",
   "name": "python",
   "nbconvert_exporter": "python",
   "pygments_lexer": "ipython3",
   "version": "3.9.6"
  }
 },
 "nbformat": 4,
 "nbformat_minor": 5
}
