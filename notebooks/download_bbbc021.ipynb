{
 "cells": [
  {
   "cell_type": "code",
   "execution_count": null,
   "id": "8c4a4d4c-93ae-4bfd-94fd-77313ecd5721",
   "metadata": {},
   "outputs": [],
   "source": [
    "%load_ext autoreload\n",
    "%autoreload 2"
   ]
  },
  {
   "cell_type": "code",
   "execution_count": null,
   "id": "f69d594f-3a4d-4825-b5cc-2031d5e4d9c0",
   "metadata": {},
   "outputs": [],
   "source": [
    "from pybbbc import BBBC021"
   ]
  },
  {
   "cell_type": "code",
   "execution_count": null,
   "id": "341d4edd-caef-4fd9-8c29-97d420df7434",
   "metadata": {},
   "outputs": [],
   "source": [
    "BBBC021.download()"
   ]
  },
  {
   "cell_type": "markdown",
   "id": "c694a92f-a4e0-48ed-b047-17623daa8cc9",
   "metadata": {},
   "source": [
    "Scale `max_workers` to the max your CPU + available memory capacity can handle."
   ]
  },
  {
   "cell_type": "code",
   "execution_count": null,
   "id": "1c99f9e1-7e7b-4310-bc45-fb8b761c73fa",
   "metadata": {},
   "outputs": [],
   "source": [
    "BBBC021.make_dataset(max_workers=4)"
   ]
  },
  {
   "cell_type": "markdown",
   "id": "0e238bd0-0377-4bce-981e-9aa1d8417969",
   "metadata": {},
   "source": [
    "# This should work before moving on"
   ]
  },
  {
   "cell_type": "code",
   "execution_count": null,
   "id": "29c874b0-9721-4f82-b129-e59d90ae8bc5",
   "metadata": {},
   "outputs": [],
   "source": [
    "bbbc021 = BBBC021()"
   ]
  },
  {
   "cell_type": "code",
   "execution_count": null,
   "id": "5245c44d-908e-42ee-9e26-90c040552db4",
   "metadata": {},
   "outputs": [],
   "source": [
    "bbbc021[0]"
   ]
  },
  {
   "cell_type": "code",
   "execution_count": null,
   "id": "f6060222-0b14-405d-b7ed-e8dfa27132a0",
   "metadata": {},
   "outputs": [],
   "source": []
  }
 ],
 "metadata": {
  "kernelspec": {
   "display_name": "pytorch-hcs",
   "language": "python",
   "name": "pytorch-hcs"
  },
  "language_info": {
   "codemirror_mode": {
    "name": "ipython",
    "version": 3
   },
   "file_extension": ".py",
   "mimetype": "text/x-python",
   "name": "python",
   "nbconvert_exporter": "python",
   "pygments_lexer": "ipython3",
   "version": "3.9.7"
  }
 },
 "nbformat": 4,
 "nbformat_minor": 5
}
