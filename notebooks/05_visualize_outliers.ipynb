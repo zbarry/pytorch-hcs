{
 "cells": [
  {
   "cell_type": "markdown",
   "id": "3e6a655b-cc0c-4d77-9564-ae98ab3ba64f",
   "metadata": {},
   "source": [
    "# Browse BBBC021 and pick outlier images to exclude from train/val/test splits\n",
    "\n",
    "Note that we are only sifting through the images from molecules of known mechanism of action (MoA)"
   ]
  },
  {
   "cell_type": "markdown",
   "id": "9644b003-3cc5-4b75-9f6f-706fd772da0f",
   "metadata": {},
   "source": [
    "# Preamble and imports"
   ]
  },
  {
   "cell_type": "code",
   "execution_count": null,
   "id": "fc6fe76d-acc7-473b-8629-50754cf1ac13",
   "metadata": {},
   "outputs": [],
   "source": [
    "%load_ext autoreload\n",
    "%autoreload 2"
   ]
  },
  {
   "cell_type": "code",
   "execution_count": null,
   "id": "c8c7b4d6-f1b5-4441-9dae-cd93678a792c",
   "metadata": {},
   "outputs": [],
   "source": [
    "import holoviews as hv\n",
    "import hvplot.pandas\n",
    "import hvplot.xarray\n",
    "import janitor\n",
    "import numpy as np\n",
    "import pandas as pd\n",
    "import torch\n",
    "import umap\n",
    "import panel as pn\n",
    "import xarray as xr\n",
    "from pytorch_hcs.datasets import BBBC021DataModule\n",
    "from pytorch_hcs.models import ResNet18\n",
    "from pytorch_hcs.vis import set_hv_defaults\n",
    "from tqdm.notebook import tqdm\n",
    "from pathlib import Path\n",
    "\n",
    "# from pyprojroot import here\n",
    "\n",
    "\n",
    "set_hv_defaults()"
   ]
  },
  {
   "cell_type": "markdown",
   "id": "8e101711-c9d3-4b77-9800-587d9b6936bc",
   "metadata": {},
   "source": [
    "## Create BBBC021 dataset for our Panel-based visualization"
   ]
  },
  {
   "cell_type": "code",
   "execution_count": null,
   "id": "e92cd87d-1d76-45eb-a983-6468d7413ee6",
   "metadata": {
    "tags": []
   },
   "outputs": [],
   "source": [
    "from pybbbc import BBBC021\n",
    "bbbc021 = BBBC021()"
   ]
  },
  {
   "cell_type": "markdown",
   "id": "886b0f6e-77b8-4bd6-aabd-d842592974ac",
   "metadata": {},
   "source": [
    "# Data path"
   ]
  },
  {
   "cell_type": "code",
   "execution_count": null,
   "id": "ff0a57a5-32ec-49fc-80cf-f57d3bced3e2",
   "metadata": {},
   "outputs": [],
   "source": [
    "data_path = Path(\"data\")  # here() / \"data\"\n",
    "data_path"
   ]
  },
  {
   "cell_type": "code",
   "execution_count": null,
   "id": "673058ff-2a23-4eb7-ba46-9208ce95635a",
   "metadata": {},
   "outputs": [],
   "source": [
    "all_embedding_df = pd.read_parquet(data_path / 'umap_results.parquet')\n",
    "all_embedding_df"
   ]
  },
  {
   "cell_type": "markdown",
   "id": "70a71925-7b02-4601-b7cb-da2170ded924",
   "metadata": {},
   "source": [
    "# Select the UMAP configuration we want"
   ]
  },
  {
   "cell_type": "code",
   "execution_count": null,
   "id": "0c781f65-1e78-4b04-93b5-eb36eeb58ef2",
   "metadata": {},
   "outputs": [],
   "source": [
    "embedding_df = (\n",
    "    all_embedding_df.query('dataset == \"BBBC021\" and metric == \"euclidean\" and n_neighbors == 500 and densmap == True and supervised == False')\n",
    "    .copy()\n",
    "    .reset_index(drop=True)\n",
    ")\n",
    "\n",
    "embedding_df"
   ]
  },
  {
   "cell_type": "code",
   "execution_count": null,
   "id": "28101dd5-8d2e-4924-807a-deb32a492e05",
   "metadata": {},
   "outputs": [],
   "source": [
    "hover_cols = [\n",
    "    \"image_idx\",\n",
    "    \"moa\",\n",
    "    \"compound\",\n",
    "    \"concentration\",\n",
    "]\n",
    "\n",
    "groups = [\"weights\", \"metric\", \"n_neighbors\", \"densmap\", \"supervised\"]\n",
    "\n",
    "kwargs = dict(\n",
    "    x=\"umap_x\",\n",
    "    y=\"umap_y\",\n",
    "    hover_cols=hover_cols,\n",
    "    alpha=0.25,\n",
    "    aspect=\"equal\",\n",
    "    cmap=\"glasbey\",\n",
    "    colorbar=False,\n",
    "    width=900,\n",
    "    height=550,\n",
    ")\n",
    "\n",
    "(\n",
    "    embedding_df.query('moa != \"null\"').hvplot.scatter(\n",
    "        c=\"moa\", title=\"UMAP embedding\", **kwargs\n",
    "    )\n",
    ")"
   ]
  },
  {
   "cell_type": "code",
   "execution_count": null,
   "id": "970437e6-6046-4695-b440-578992e2a469",
   "metadata": {},
   "outputs": [],
   "source": [
    "def ecdf(data):\n",
    "    data_sorted = np.sort(data)\n",
    "\n",
    "    # calculate the proportional values of samples\n",
    "    p = np.arange(len(data)) / (len(data) - 1)\n",
    "    \n",
    "    return data_sorted, p"
   ]
  },
  {
   "cell_type": "code",
   "execution_count": null,
   "id": "267171dc-441d-4266-90c1-708528ec39d2",
   "metadata": {},
   "outputs": [],
   "source": [
    "from sklearn.neighbors import NearestNeighbors\n",
    "\n",
    "nbrs = NearestNeighbors(n_neighbors=8)\n",
    "nbrs.fit(embedding_df[[\"umap_x\", \"umap_y\"]])\n",
    "\n",
    "distances, indexes = nbrs.kneighbors(embedding_df[[\"umap_x\", \"umap_y\"]])\n",
    "\n",
    "distances = distances[:, 1:]\n",
    "\n",
    "avg_distances = distances.mean(1)\n",
    "\n",
    "labeled_embedding_df = embedding_df.add_columns(\n",
    "    outlier_score=avg_distances,\n",
    ")"
   ]
  },
  {
   "cell_type": "code",
   "execution_count": null,
   "id": "dab4d180-2129-4c71-ad69-2690802955ee",
   "metadata": {},
   "outputs": [],
   "source": [
    "cdf_x, cdf_y = ecdf(avg_distances)\n",
    "\n",
    "(\n",
    "    hv.Curve(\n",
    "        avg_distances,\n",
    "        kdims=\"BBBC021 image index\",\n",
    "        vdims=\"distance\",\n",
    "        label=\"Average kNN distance for BBBC021 image UMAP projections\",\n",
    "    ).opts(width=1000)\n",
    "    + hv.Histogram(\n",
    "        np.histogram(avg_distances, bins=200), kdims=\"distance\"\n",
    "    ).opts(width=1000)\n",
    "    + hv.Curve((cdf_x, cdf_y), kdims=\"distance\", vdims=\"ECDF\").opts(width=1000)\n",
    ").cols(1)"
   ]
  },
  {
   "cell_type": "code",
   "execution_count": null,
   "id": "0109f8c5-af5e-43cb-b2d3-e1e054421e6b",
   "metadata": {},
   "outputs": [],
   "source": [
    "outlier_df = labeled_embedding_df.sort_values(\"outlier_score\", ascending=False)\n",
    "\n",
    "outlier_order = outlier_df[\"image_idx\"].values\n",
    "outlier_scores = outlier_df[\"outlier_score\"].values\n",
    "\n",
    "\n",
    "def make_layout(image_idx):\n",
    "    image, metadata = bbbc021[outlier_order[image_idx]]\n",
    "\n",
    "    #     prefix = f\"{metadata.compound.compound} @ {metadata.compound.concentration:.2e} μM, {metadata.compound.moa}\"\n",
    "\n",
    "    prefix = f\"{metadata.compound.compound}, {metadata.compound.moa}, {outlier_scores[image_idx]}\"\n",
    "\n",
    "    plots = []\n",
    "\n",
    "    cmaps = [\"fire\", \"kg\", \"kb\"]\n",
    "\n",
    "    for channel_idx, im_channel in enumerate(image):\n",
    "        plot = hv.Image(\n",
    "            im_channel,\n",
    "            bounds=(0, 0, im_channel.shape[1], im_channel.shape[0]),\n",
    "            label=f\"{prefix} | {bbbc021.CHANNELS[channel_idx]}\",\n",
    "        ).opts(cmap=cmaps[channel_idx])\n",
    "        plots.append(plot)\n",
    "\n",
    "    plots.append(\n",
    "        hv.RGB(\n",
    "            image.transpose(1, 2, 0),\n",
    "            bounds=(0, 0, im_channel.shape[1], im_channel.shape[0]),\n",
    "            label=\"Channel overlay\",\n",
    "        )\n",
    "    )\n",
    "\n",
    "    return hv.Layout(plots).cols(2)\n",
    "\n",
    "\n",
    "hv.DynamicMap(make_layout, kdims=\"image\").redim.range(\n",
    "    image=(0, len(bbbc021) - 1)\n",
    ")"
   ]
  },
  {
   "cell_type": "code",
   "execution_count": null,
   "id": "93d3a761-21e0-4fd7-84c8-96fa435f2599",
   "metadata": {},
   "outputs": [],
   "source": []
  }
 ],
 "metadata": {
  "kernelspec": {
   "display_name": "Python 3 (ipykernel)",
   "language": "python",
   "name": "python3"
  },
  "language_info": {
   "codemirror_mode": {
    "name": "ipython",
    "version": 3
   },
   "file_extension": ".py",
   "mimetype": "text/x-python",
   "name": "python",
   "nbconvert_exporter": "python",
   "pygments_lexer": "ipython3",
   "version": "3.9.7"
  }
 },
 "nbformat": 4,
 "nbformat_minor": 5
}
