{
 "cells": [
  {
   "cell_type": "code",
   "execution_count": null,
   "id": "29bb369a-8b37-452d-8bc7-8c4f49c1eb5a",
   "metadata": {},
   "outputs": [],
   "source": [
    "%load_ext autoreload\n",
    "%autoreload 2"
   ]
  },
  {
   "cell_type": "code",
   "execution_count": null,
   "id": "b192d7bf-27a5-43e1-a2fb-d14546f273fb",
   "metadata": {},
   "outputs": [],
   "source": [
    "import random\n",
    "\n",
    "import cv2\n",
    "import numpy as np\n",
    "import torch\n",
    "import torchvision.transforms as tvtransforms\n",
    "\n",
    "from pybbbc import BBBC021\n",
    "\n",
    "import holoviews as hv\n",
    "\n",
    "from pytorch_hcs.vis import set_hv_defaults\n",
    "\n",
    "set_hv_defaults()"
   ]
  },
  {
   "cell_type": "code",
   "execution_count": null,
   "id": "a127da2a-c3e4-4796-9f16-1873c8103fe9",
   "metadata": {},
   "outputs": [],
   "source": [
    "bbbc021 = BBBC021()"
   ]
  },
  {
   "cell_type": "code",
   "execution_count": null,
   "id": "509c18a9-33ee-42dd-92a0-d98f71a94543",
   "metadata": {},
   "outputs": [],
   "source": [
    "im, _ = bbbc021[4000]"
   ]
  },
  {
   "cell_type": "code",
   "execution_count": null,
   "id": "293424b0-6aee-4d7e-a0df-f0b069b80b84",
   "metadata": {},
   "outputs": [],
   "source": [
    "def normalize_image(im, new_min, new_max):\n",
    "    im_max, im_min = im.max(), im.min()\n",
    "\n",
    "    return (im - im_min) * (new_max - new_min) / (im_max - im_min) + new_min"
   ]
  },
  {
   "cell_type": "code",
   "execution_count": null,
   "id": "472d2535-4871-43c3-a406-68b3376f63cb",
   "metadata": {
    "tags": []
   },
   "outputs": [],
   "source": [
    "def random_gamma(im):\n",
    "    gamma_low, gamma_high = 0.7, 1.3\n",
    "\n",
    "    # operate across channels independently\n",
    "\n",
    "    gamma_ims = []\n",
    "\n",
    "    for channel_idx in range(im.shape[2]):\n",
    "        im_channel = im[..., channel_idx]\n",
    "\n",
    "        im_max, im_min = im_channel.max(), im_channel.min()\n",
    "\n",
    "        gamma = np.random.uniform(gamma_low, gamma_high)\n",
    "\n",
    "        im_channel = normalize_image(\n",
    "            normalize_image(im_channel, 0, 1) ** gamma, im_min, im_max\n",
    "        )\n",
    "\n",
    "        gamma_ims.append(im_channel[..., np.newaxis])\n",
    "\n",
    "    return np.concatenate(gamma_ims, axis=-1)"
   ]
  },
  {
   "cell_type": "code",
   "execution_count": null,
   "id": "5fe05cb3-e2ea-4c46-9f99-0444dae06b15",
   "metadata": {},
   "outputs": [],
   "source": [
    "def random_gauss_noise(im):\n",
    "    sigma_max = 0.025\n",
    "\n",
    "    sigmas = (\n",
    "        np.array([0, 0, 0])\n",
    "        if random.random() > 0.8\n",
    "        else np.random.uniform(0, sigma_max, 3)\n",
    "    )\n",
    "\n",
    "    return np.clip(\n",
    "        im\n",
    "        + (\n",
    "            sigmas[np.newaxis, np.newaxis]\n",
    "            * np.random.randn(im.shape[0], im.shape[1], 3)\n",
    "        ),\n",
    "        0,\n",
    "        None,\n",
    "    )"
   ]
  },
  {
   "cell_type": "code",
   "execution_count": null,
   "id": "5cf7118d-715d-4a33-9bc6-05212bd5f878",
   "metadata": {},
   "outputs": [],
   "source": [
    "def random_brightness(im):\n",
    "    brightness = 0.4\n",
    "\n",
    "    alphas = (\n",
    "        np.array([1, 1, 1])\n",
    "        if random.random() > 0.8\n",
    "        else 1.0 + np.random.uniform(-brightness, brightness, 3)\n",
    "    )\n",
    "\n",
    "    return im * alphas[np.newaxis, np.newaxis]"
   ]
  },
  {
   "cell_type": "code",
   "execution_count": null,
   "id": "52b10681-f94c-4b30-9ffb-b74e5e508eee",
   "metadata": {},
   "outputs": [],
   "source": [
    "im_bright = random_brightness(im.transpose(1, 2, 0)).transpose(2, 0, 1)\n",
    "\n",
    "plots = []\n",
    "\n",
    "cmaps = [\"fire\", \"kg\", \"kb\"]\n",
    "\n",
    "for channel_idx, im_channel in enumerate(im_bright):\n",
    "    plot = hv.Image(\n",
    "        im_channel,\n",
    "        bounds=(0, 0, im_channel.shape[1], im_channel.shape[0]),\n",
    "        label=f\"{bbbc021.CHANNELS[channel_idx]}\",\n",
    "    ).opts(cmap=cmaps[channel_idx])\n",
    "    plots.append(plot)\n",
    "\n",
    "plots.append(\n",
    "    hv.RGB(\n",
    "        im_bright.transpose(1, 2, 0),\n",
    "        bounds=(0, 0, im_channel.shape[1], im_channel.shape[0]),\n",
    "        label=\"Channel overlay\",\n",
    "    )\n",
    ")\n",
    "\n",
    "hv.Layout(plots).cols(2)"
   ]
  },
  {
   "cell_type": "code",
   "execution_count": null,
   "id": "54337c11-4d73-47b1-992f-c32e2a10b2ab",
   "metadata": {},
   "outputs": [],
   "source": [
    "im_noise = random_gauss_noise(im.transpose(1, 2, 0)).transpose(2, 0, 1)\n",
    "\n",
    "plots = []\n",
    "\n",
    "cmaps = [\"fire\", \"kg\", \"kb\"]\n",
    "\n",
    "for channel_idx, im_channel in enumerate(im_noise):\n",
    "    plot = hv.Image(\n",
    "        im_channel,\n",
    "        bounds=(0, 0, im_channel.shape[1], im_channel.shape[0]),\n",
    "        label=f\"{bbbc021.CHANNELS[channel_idx]}\",\n",
    "    ).opts(cmap=cmaps[channel_idx])\n",
    "    plots.append(plot)\n",
    "\n",
    "plots.append(\n",
    "    hv.RGB(\n",
    "        im_noise.transpose(1, 2, 0),\n",
    "        bounds=(0, 0, im_channel.shape[1], im_channel.shape[0]),\n",
    "        label=\"Channel overlay\",\n",
    "    )\n",
    ")\n",
    "\n",
    "hv.Layout(plots).cols(2)"
   ]
  },
  {
   "cell_type": "code",
   "execution_count": null,
   "id": "ee64c55c-31cd-4321-b4b8-e1c1c6ca678c",
   "metadata": {},
   "outputs": [],
   "source": [
    "im_gamma = random_gamma(im.transpose(1, 2, 0)).transpose(2, 0, 1)\n",
    "\n",
    "plots = []\n",
    "\n",
    "cmaps = [\"fire\", \"kg\", \"kb\"]\n",
    "\n",
    "for channel_idx, im_channel in enumerate(im_gamma):\n",
    "    plot = hv.Image(\n",
    "        im_channel,\n",
    "        bounds=(0, 0, im_channel.shape[1], im_channel.shape[0]),\n",
    "        label=f\"{bbbc021.CHANNELS[channel_idx]}\",\n",
    "    ).opts(cmap=cmaps[channel_idx])\n",
    "    plots.append(plot)\n",
    "\n",
    "plots.append(\n",
    "    hv.RGB(\n",
    "        im_gamma.transpose(1, 2, 0),\n",
    "        bounds=(0, 0, im_channel.shape[1], im_channel.shape[0]),\n",
    "        label=\"Channel overlay\",\n",
    "    )\n",
    ")\n",
    "\n",
    "hv.Layout(plots).cols(2)"
   ]
  },
  {
   "cell_type": "code",
   "execution_count": null,
   "id": "a4f89e49-4ec8-45db-9390-de4e3ce26e44",
   "metadata": {},
   "outputs": [],
   "source": [
    "plots = []\n",
    "\n",
    "cmaps = [\"fire\", \"kg\", \"kb\"]\n",
    "\n",
    "for channel_idx, im_channel in enumerate(im):\n",
    "    plot = hv.Image(\n",
    "        im_channel,\n",
    "        bounds=(0, 0, im_channel.shape[1], im_channel.shape[0]),\n",
    "        label=f\"{bbbc021.CHANNELS[channel_idx]}\",\n",
    "    ).opts(cmap=cmaps[channel_idx])\n",
    "    plots.append(plot)\n",
    "\n",
    "plots.append(\n",
    "    hv.RGB(\n",
    "        im.transpose(1, 2, 0),\n",
    "        bounds=(0, 0, im_channel.shape[1], im_channel.shape[0]),\n",
    "        label=\"Channel overlay\",\n",
    "    )\n",
    ")\n",
    "\n",
    "hv.Layout(plots).cols(2)"
   ]
  }
 ],
 "metadata": {
  "kernelspec": {
   "display_name": "pytorch-hcs",
   "language": "python",
   "name": "pytorch-hcs"
  },
  "language_info": {
   "codemirror_mode": {
    "name": "ipython",
    "version": 3
   },
   "file_extension": ".py",
   "mimetype": "text/x-python",
   "name": "python",
   "nbconvert_exporter": "python",
   "pygments_lexer": "ipython3",
   "version": "3.9.7"
  }
 },
 "nbformat": 4,
 "nbformat_minor": 5
}
