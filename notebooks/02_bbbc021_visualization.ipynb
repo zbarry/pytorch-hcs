{
 "cells": [
  {
   "cell_type": "markdown",
   "id": "f287f199-b05e-46f9-8e79-f4c834afae99",
   "metadata": {},
   "source": [
    "# Exploring the BBBC021 dataset"
   ]
  },
  {
   "cell_type": "markdown",
   "id": "1c9e1b86-470c-4228-9755-d9b447f14e9a",
   "metadata": {},
   "source": [
    "## A little background on high content imaging / screening\n",
    "\n",
    "In a high-content screening / imaging assay, a cell line is treated with a number of different compounds (often on the order of 10k, 100k, or more molecules) for a given period of time, \n",
    "and then the cells are [fixed](https://en.wikipedia.org/wiki/Fixation_(histology)) and stained with fluorescent dyes which visualize important cellular structures that are then imaged under a microscope.\n",
    "Through this procedure, we can directly observe the impact of the given (drug) molecules on cellular morphology - \n",
    "changes in cell and subcellular shape and structure.\n",
    "The biophysical interaction by which a bioactive molecule exerts its effects on cells is known as its [mechanism of action (MoA)](https://en.wikipedia.org/wiki/Mechanism_of_action).\n",
    "Different compounds with the same MoA will have similar effects on cellular morphology, which we should be able to detect in our screen.\n",
    "Note that a molecule in fact may have more than one MoA - these [\"dirty drugs\"](https://en.wikipedia.org/wiki/Dirty_drug) may exhibit multiple effects on cellular processes in the assay simultaneously, \n",
    "or effects may change based on dosage."
   ]
  },
  {
   "cell_type": "markdown",
   "id": "3e3e84e6-ed7b-4ae6-9e18-13e63beac80b",
   "metadata": {},
   "source": [
    "## Our dataset: BBBC021 from the Broad Bioimage Benchmark Collection\n",
    "\n",
    "The [Broad Bioimage Benchmark Collection](https://bbbc.broadinstitute.org/) is a collection of open microscopy imaging datasets published by the [Broad Institute](https://www.broadinstitute.org/), \n",
    "an MIT- and Harvard-affiliated research institute in Cambridge, MA, USA. \n",
    "The [BBBC021 dataset](https://bbbc.broadinstitute.org/BBBC021) comprises a [high-content screening](https://en.wikipedia.org/wiki/High-content_screening) assay of [Human MCF-7 cells](https://en.wikipedia.org/wiki/MCF-7), \n",
    "a very commonly used breast cancer cell line in biomedical research.\n",
    "\n",
    "\n",
    "\n",
    "In the BBBC021 dataset, 3 structures have been stained: DNA, and the cytoskeletal proteins F-actin and B-tubulin, \n",
    "which comprise actin filaments and microtubules, respectively."
   ]
  },
  {
   "cell_type": "code",
   "execution_count": null,
   "id": "da71bd83-32f7-4386-8525-e594c7975750",
   "metadata": {},
   "outputs": [],
   "source": [
    "%load_ext autoreload\n",
    "%autoreload 2"
   ]
  },
  {
   "cell_type": "code",
   "execution_count": null,
   "id": "77b8da5e-631e-4560-8bac-b9c4186d56e9",
   "metadata": {},
   "outputs": [],
   "source": [
    "import holoviews as hv\n",
    "import numpy as np\n",
    "\n",
    "from pybbbc import BBBC021"
   ]
  },
  {
   "cell_type": "code",
   "execution_count": null,
   "id": "568578bd-5045-49e9-80b5-90dc8b51767c",
   "metadata": {},
   "outputs": [],
   "source": [
    "hv.extension(\"bokeh\")"
   ]
  },
  {
   "cell_type": "code",
   "execution_count": null,
   "id": "38a5da5e-c949-4714-92d9-89c00f4481ec",
   "metadata": {},
   "outputs": [],
   "source": [
    "im_opts = hv.opts.Image(\n",
    "    aspect=\"equal\",\n",
    "    tools=[\"hover\"],\n",
    "    active_tools=[\"wheel_zoom\"],\n",
    "    colorbar=True,\n",
    "    cmap=\"fire\",\n",
    "    normalize=False,\n",
    ")\n",
    "\n",
    "rgb_opts = hv.opts.RGB(\n",
    "    aspect=\"equal\",\n",
    "    active_tools=[\"wheel_zoom\"],\n",
    ")\n",
    "\n",
    "hv.opts.defaults(im_opts, rgb_opts)"
   ]
  },
  {
   "cell_type": "markdown",
   "id": "e4d8c24c-1e23-4139-a8bb-b27cd213e17f",
   "metadata": {},
   "source": [
    "### Working with pybbbc\n",
    "\n",
    "#### Constructing the BBBC021 object\n",
    "\n",
    "When you create the `BBBC021` object, you can choose which images to include by selecting subsets with keyword arguments. For example:"
   ]
  },
  {
   "cell_type": "code",
   "execution_count": null,
   "id": "5d84c55d-c47d-4e3e-a21d-c7b66b20473c",
   "metadata": {},
   "outputs": [],
   "source": [
    "from pybbbc import BBBC021\n",
    "\n",
    "# Entire BBBC021 dataset, including unknown MoA\n",
    "\n",
    "bbbc021_all = BBBC021()\n",
    "\n",
    "# Just the images with known MoA\n",
    "\n",
    "bbbc021_moa = BBBC021(moa=[moa for moa in BBBC021.MOA if moa != \"null\"])"
   ]
  },
  {
   "cell_type": "markdown",
   "id": "73b07aba-a84e-4602-8bbb-6c3503ebeae6",
   "metadata": {},
   "source": [
    "`BBBC021` has a number of useful constant class attributes that describe the entirety of the dataset\n",
    "(and can be accessed without creating an object):\n",
    "\n",
    "* `IMG_SHAPE`\n",
    "* `CHANNELS`\n",
    "* `PLATES`\n",
    "* `COMPOUNDS`\n",
    "* `MOA`\n",
    "\n",
    "These don't change with the subset of BBBC021 you have selected. On other other hand, these do:\n",
    "\n",
    "* `moa`\n",
    "* `compounds`\n",
    "* `plates`\n",
    "* `sites`\n",
    "* `wells`\n",
    "\n",
    "For example, `BBBC021.MOA` will give you a list of all the MoAs in the full dataset:"
   ]
  },
  {
   "cell_type": "code",
   "execution_count": null,
   "id": "0207481f-fc87-4bf5-a31b-3b59d1e84860",
   "metadata": {},
   "outputs": [],
   "source": [
    "BBBC021.MOA"
   ]
  },
  {
   "cell_type": "markdown",
   "id": "4ea6135e-2061-49bf-a86b-5bda35916b2c",
   "metadata": {},
   "source": [
    "### Access an image and its metadata\n",
    "\n",
    "Your initialized `BBBC021` object is indexable and has a length. \n",
    "An index is the integer offset into the subset of BBBC021 you have selected."
   ]
  },
  {
   "cell_type": "code",
   "execution_count": null,
   "id": "f2ed2600-db5e-44e7-a9cf-b771564b6057",
   "metadata": {},
   "outputs": [],
   "source": [
    "print(f'Number of images in BBBC021: {len(bbbc021_all)}')\n",
    "print(f'Number of images with known MoA: {len(bbbc021_moa)}')"
   ]
  },
  {
   "cell_type": "markdown",
   "id": "8f83745f-32b1-4204-a1c1-8cf125608da9",
   "metadata": {},
   "source": [
    "What you get back from the object is a `tuple` of the given image followed by its associated metadata\n",
    "in the form of a `namedtuple`:"
   ]
  },
  {
   "cell_type": "code",
   "execution_count": null,
   "id": "03bb095e-0af0-4d57-a1ed-ed5dd9dfe462",
   "metadata": {},
   "outputs": [],
   "source": [
    "image, metadata = bbbc021_moa[0]\n",
    "\n",
    "plate, compound, image_idx = metadata  # it can be unpacked like a regular `tuple`\n",
    "\n",
    "print(f'{metadata=}\\n\\n{metadata.plate=}\\n\\n{metadata.compound=}')"
   ]
  },
  {
   "cell_type": "markdown",
   "id": "89515d87-c2ee-422f-bc52-cd8bf4b8ea47",
   "metadata": {},
   "source": [
    "### View the metadata `DataFrame`s\n",
    "\n",
    "The metadata is compiled into two Pandas `DataFrame`s, `image_df` and `moa_df`, \n",
    "which contain only metadata from the selected subset of the BBBC021 dataset.\n",
    "\n",
    "`image_df` contains metadata information on an individual image level. \n",
    "Each row corresponds to an image in the subset of BBBC021 you selected:"
   ]
  },
  {
   "cell_type": "code",
   "execution_count": null,
   "id": "cc2ff490-96f6-4c62-baf1-23f0bf786eab",
   "metadata": {},
   "outputs": [],
   "source": [
    "bbbc021_moa.image_df"
   ]
  },
  {
   "cell_type": "markdown",
   "id": "5585e629-798b-41f1-9da2-9e9bbd3698aa",
   "metadata": {},
   "source": [
    "`image_idx` corresponds to the absolute index of the image in the full BBBC021 dataset.\n",
    "`relative_image_idx` is the index you would use to access the given image as in:\n",
    "\n",
    "`image, metadata = your_bbbc021_obj[relative_image_idx]`\n",
    "\n",
    "`moa_df` is a metadata `DataFrame` which provides you with all the compound-concentration pairs in the selected BBBC021 subset: "
   ]
  },
  {
   "cell_type": "code",
   "execution_count": null,
   "id": "d43967f4-b33f-4af1-9938-c7b63f98b27d",
   "metadata": {},
   "outputs": [],
   "source": [
    "bbbc021_moa.moa_df"
   ]
  },
  {
   "cell_type": "markdown",
   "id": "af1da45a-1cfe-4e1a-a723-ffef1a24e585",
   "metadata": {},
   "source": [
    "# Visualize all BBBC021 images"
   ]
  },
  {
   "cell_type": "code",
   "execution_count": null,
   "id": "20f3716b-dcc6-4f62-b655-2434d97fb747",
   "metadata": {},
   "outputs": [],
   "source": [
    "def make_layout(image_idx):\n",
    "    image, metadata = bbbc021_all[image_idx]\n",
    "\n",
    "    prefix = f\"{metadata.compound.compound} @ {metadata.compound.concentration:.2e} μM, {metadata.compound.moa}\"\n",
    "\n",
    "    plots = []\n",
    "\n",
    "    cmaps = [\"fire\", \"kg\", \"kb\"]\n",
    "\n",
    "    for channel_idx, im_channel in enumerate(image):\n",
    "        plot = hv.Image(\n",
    "            im_channel,\n",
    "            bounds=(0, 0, im_channel.shape[1], im_channel.shape[0]),\n",
    "            label=f\"{prefix} | {bbbc021_all.CHANNELS[channel_idx]}\",\n",
    "        ).opts(cmap=cmaps[channel_idx])\n",
    "        plots.append(plot)\n",
    "\n",
    "    plots.append(\n",
    "        hv.RGB(\n",
    "            image.transpose(1, 2, 0),\n",
    "            bounds=(0, 0, im_channel.shape[1], im_channel.shape[0]),\n",
    "            label=\"Channel overlay\",\n",
    "        )\n",
    "    )\n",
    "\n",
    "    return hv.Layout(plots).cols(2)\n",
    "\n",
    "\n",
    "hv.DynamicMap(make_layout, kdims=\"image\").redim.range(image=(0, len(bbbc021_all) - 1))"
   ]
  }
 ],
 "metadata": {
  "kernelspec": {
   "display_name": "Python 3 (ipykernel)",
   "language": "python",
   "name": "python3"
  },
  "language_info": {
   "codemirror_mode": {
    "name": "ipython",
    "version": 3
   },
   "file_extension": ".py",
   "mimetype": "text/x-python",
   "name": "python",
   "nbconvert_exporter": "python",
   "pygments_lexer": "ipython3",
   "version": "3.9.7"
  }
 },
 "nbformat": 4,
 "nbformat_minor": 5
}
