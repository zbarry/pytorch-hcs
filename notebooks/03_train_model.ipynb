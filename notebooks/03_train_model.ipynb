{
 "cells": [
  {
   "cell_type": "markdown",
   "metadata": {},
   "source": [
    "# Train a model to classify mechanism of action from cellular images"
   ]
  },
  {
   "cell_type": "code",
   "execution_count": null,
   "metadata": {},
   "outputs": [],
   "source": [
    "%load_ext autoreload\n",
    "%autoreload 2"
   ]
  },
  {
   "cell_type": "code",
   "execution_count": null,
   "metadata": {},
   "outputs": [],
   "source": [
    "from pathlib import Path\n",
    "\n",
    "import cv2\n",
    "import numpy as np\n",
    "import pytorch_lightning as pl\n",
    "from pytorch_hcs.datasets import BBBC021DataModule, BBBC021Dataset\n",
    "from pytorch_hcs.models import ResNet18, ResNet101, ResNet18Embeddings\n",
    "from pytorch_lightning.callbacks import ModelCheckpoint\n",
    "from pytorch_lightning.loggers import WandbLogger, TensorBoardLogger\n",
    "\n",
    "cv2.setNumThreads(0)"
   ]
  },
  {
   "cell_type": "code",
   "execution_count": null,
   "metadata": {},
   "outputs": [],
   "source": [
    "import wandb\n",
    "wandb.login()"
   ]
  },
  {
   "cell_type": "code",
   "execution_count": null,
   "metadata": {},
   "outputs": [],
   "source": [
    "data_path = Path(\"data\")"
   ]
  },
  {
   "cell_type": "markdown",
   "metadata": {},
   "source": [
    "# Choose model"
   ]
  },
  {
   "cell_type": "code",
   "execution_count": null,
   "metadata": {},
   "outputs": [],
   "source": [
    "# model_cls = ResNet18\n",
    "# model_cls = ResNet101\n",
    "\n",
    "model_cls = ResNet18Embeddings"
   ]
  },
  {
   "cell_type": "markdown",
   "metadata": {},
   "source": [
    "# Set up PyTorch-Lightning DataModule"
   ]
  },
  {
   "cell_type": "code",
   "execution_count": null,
   "metadata": {},
   "outputs": [],
   "source": [
    "tv_batch_sizes = {\n",
    "    'ResNet18': 10,\n",
    "    'ResNet101': 5,\n",
    "    'ResNet18Embeddings': 10,\n",
    "}"
   ]
  },
  {
   "cell_type": "code",
   "execution_count": null,
   "metadata": {},
   "outputs": [],
   "source": [
    "dm = BBBC021DataModule(\n",
    "    num_workers=8,\n",
    "    tv_batch_size=tv_batch_sizes[model_cls.__name__],\n",
    "    t_batch_size=8,\n",
    ")\n",
    "\n",
    "dm.setup()"
   ]
  },
  {
   "cell_type": "markdown",
   "metadata": {},
   "source": [
    "# Optional: compute class weights\n",
    "\n",
    "Set `with_class_balance` to `True`/`False` to enable/disable."
   ]
  },
  {
   "cell_type": "code",
   "execution_count": null,
   "metadata": {},
   "outputs": [],
   "source": [
    "with_class_balance = True\n",
    "\n",
    "if with_class_balance:\n",
    "    train_class_weights = dm.train_dataset.compute_class_weights()\n",
    "    val_class_weights = dm.val_dataset.compute_class_weights()\n",
    "    test_class_weights = dm.test_dataset.compute_class_weights()\n",
    "\n",
    "    display(\n",
    "        \"training weights\",\n",
    "        {\n",
    "            name: weight\n",
    "            for name, weight in zip(dm.label_to_class.values(), train_class_weights)\n",
    "        },\n",
    "    )\n",
    "\n",
    "    display(\n",
    "        \"validation weights\",\n",
    "        {\n",
    "            name: weight\n",
    "            for name, weight in zip(dm.label_to_class.values(), val_class_weights)\n",
    "        },\n",
    "    )\n",
    "\n",
    "    display(\n",
    "        \"test weights\",\n",
    "        {\n",
    "            name: weight\n",
    "            for name, weight in zip(dm.label_to_class.values(), test_class_weights)\n",
    "        },\n",
    "    )\n",
    "\n",
    "else:\n",
    "    train_class_weights = None\n",
    "    val_class_weights = None\n",
    "    test_class_weights = None"
   ]
  },
  {
   "cell_type": "markdown",
   "metadata": {},
   "source": [
    "# Initialize model"
   ]
  },
  {
   "cell_type": "code",
   "execution_count": null,
   "metadata": {},
   "outputs": [],
   "source": [
    "extra_kwargs = dict(num_channels=3) if \"Embeddings\" in model_cls.__name__ else {}\n",
    "\n",
    "model = model_cls(\n",
    "    num_classes=dm.num_classes,\n",
    "    learning_rate=0.0001,\n",
    "    pretrained=True,\n",
    "    lambdalr_factor=1,\n",
    "    plateau_patience=10,\n",
    "    plateau_factor=0.1,\n",
    "    train_class_weights=train_class_weights,\n",
    "    val_class_weights=val_class_weights,\n",
    "    test_class_weights=test_class_weights,\n",
    "    **extra_kwargs,\n",
    ")"
   ]
  },
  {
   "cell_type": "markdown",
   "metadata": {},
   "source": [
    "# Set up training logger\n",
    "\n",
    "Model checkpoint artifacts from the training will be accessible under `'model-{version}'`,\n",
    "where `version` is by default set to the class name of the PyTorch-Lightning module."
   ]
  },
  {
   "cell_type": "code",
   "execution_count": null,
   "metadata": {},
   "outputs": [],
   "source": [
    "name = model_cls.__name__\n",
    "\n",
    "logger = WandbLogger(name=name, version=name, project='pytorch-hcs', log_model='all')\n",
    "logger.watch(model)"
   ]
  },
  {
   "cell_type": "markdown",
   "metadata": {},
   "source": [
    "## Alternatively, use local `TensorBoardLogger`"
   ]
  },
  {
   "cell_type": "code",
   "execution_count": null,
   "metadata": {},
   "outputs": [],
   "source": [
    "# logger = TensorBoardLogger(name=name, save_dir=f'{data_path}/tensorboard')\n",
    "\n",
    "# Path(f'{data_path}/tensorboard/{name}').mkdir(exist_ok=True, parents=True)"
   ]
  },
  {
   "cell_type": "markdown",
   "metadata": {},
   "source": [
    "# Directory for local copy of weights\n",
    "\n",
    "Necessary if using `TensorBoardLogger`, redundant if you have a W&B account to save artifacts to."
   ]
  },
  {
   "cell_type": "code",
   "execution_count": null,
   "metadata": {},
   "outputs": [],
   "source": [
    "weights_path = data_path / f\"weights/{name}/version_{logger.version}\"\n",
    "weights_path.mkdir(exist_ok=True, parents=True)"
   ]
  },
  {
   "cell_type": "markdown",
   "metadata": {},
   "source": [
    "# Early stopping\n",
    "\n",
    "Stop training if the validation loss does not improve after a set number of epochs."
   ]
  },
  {
   "cell_type": "code",
   "execution_count": null,
   "metadata": {},
   "outputs": [],
   "source": [
    "early_stop_callback = pl.callbacks.EarlyStopping(\n",
    "    monitor=\"val_loss\", min_delta=0.00, patience=10, verbose=False, mode=\"min\"\n",
    ")"
   ]
  },
  {
   "cell_type": "markdown",
   "metadata": {},
   "source": [
    "# Model checkpointing\n",
    "\n",
    "Only save a new version of the model if the validation loss has improved. Save only the model with the best validation loss."
   ]
  },
  {
   "cell_type": "code",
   "execution_count": null,
   "metadata": {},
   "outputs": [],
   "source": [
    "checkpoint_callback = ModelCheckpoint(\n",
    "    dirpath=str(weights_path),\n",
    "    save_top_k=1,\n",
    "    verbose=True,\n",
    "    monitor=\"val_loss\",\n",
    "    mode=\"min\",\n",
    ")"
   ]
  },
  {
   "cell_type": "markdown",
   "metadata": {},
   "source": [
    "# Train model\n",
    "\n",
    "Set the `gpus` keyword argument to `0` to train using your CPU (which will be much slower)."
   ]
  },
  {
   "cell_type": "code",
   "execution_count": null,
   "metadata": {
    "tags": []
   },
   "outputs": [],
   "source": [
    "trainer = pl.Trainer(\n",
    "    logger=logger,\n",
    "    gpus=1,  # 0 will use CPU instead\n",
    "    callbacks=[early_stop_callback, checkpoint_callback],\n",
    "    benchmark=True,\n",
    "    precision=16,\n",
    ")\n",
    "\n",
    "trainer.fit(model, dm)"
   ]
  },
  {
   "cell_type": "code",
   "execution_count": null,
   "metadata": {
    "tags": []
   },
   "outputs": [],
   "source": [
    "if isinstance(logger, WandbLogger):\n",
    "    wandb.finish(0)"
   ]
  }
 ],
 "metadata": {
  "kernelspec": {
   "display_name": "Python 3 (ipykernel)",
   "language": "python",
   "name": "python3"
  },
  "language_info": {
   "codemirror_mode": {
    "name": "ipython",
    "version": 3
   },
   "file_extension": ".py",
   "mimetype": "text/x-python",
   "name": "python",
   "nbconvert_exporter": "python",
   "pygments_lexer": "ipython3",
   "version": "3.9.7"
  }
 },
 "nbformat": 4,
 "nbformat_minor": 4
}
