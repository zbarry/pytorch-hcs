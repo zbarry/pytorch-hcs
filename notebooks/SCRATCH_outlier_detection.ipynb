{
 "cells": [
  {
   "cell_type": "code",
   "execution_count": null,
   "id": "e0c59781-4d45-4536-ac99-132fd8b02baf",
   "metadata": {},
   "outputs": [],
   "source": []
  },
  {
   "cell_type": "markdown",
   "id": "62cfd674-45fa-43da-986d-d0ca654d24c8",
   "metadata": {},
   "source": [
    "## LocalOutlierFactor"
   ]
  },
  {
   "cell_type": "code",
   "execution_count": null,
   "id": "2b173147-7e81-4525-9ca9-b702422fb519",
   "metadata": {},
   "outputs": [],
   "source": [
    "from sklearn.neighbors import LocalOutlierFactor\n",
    "\n",
    "clf = LocalOutlierFactor(n_neighbors=10, contamination=\"auto\").fit(\n",
    "    embedding_df[[\"umap_x\", \"umap_y\"]]\n",
    ")"
   ]
  },
  {
   "cell_type": "code",
   "execution_count": null,
   "id": "12bdb20b-0d29-4480-9965-95d0f46433e9",
   "metadata": {},
   "outputs": [],
   "source": [
    "labeled_embedding_df = embedding_df.add_columns(\n",
    "    outlier_score=clf.negative_outlier_factor_,\n",
    ")"
   ]
  },
  {
   "cell_type": "code",
   "execution_count": null,
   "id": "770d8f4f-bcc6-4bcc-8d11-82e3e46adfc8",
   "metadata": {},
   "outputs": [],
   "source": [
    "labeled_embedding_df"
   ]
  },
  {
   "cell_type": "code",
   "execution_count": null,
   "id": "1cad27d1-6be8-4c55-863c-bc2913464301",
   "metadata": {},
   "outputs": [],
   "source": [
    "labeled_embedding_df.hvplot.scatter(\n",
    "    y=\"outlier_score\",\n",
    "    x=\"moa\",\n",
    "    hover_cols=\"compound\",\n",
    "    rot=45,\n",
    "    alpha=0.08,\n",
    "    height=500,\n",
    ").opts(jitter=0.4) * hv.HLine(clf.offset_).opts(line_dash=\"dashed\", color=\"k\")"
   ]
  },
  {
   "cell_type": "code",
   "execution_count": null,
   "id": "877e3e42-b767-499e-a74a-59108caa41e9",
   "metadata": {},
   "outputs": [],
   "source": [
    "kwargs_ = kwargs.copy()\n",
    "kwargs_.pop(\"cmap\")\n",
    "kwargs_.pop(\"colorbar\")\n",
    "\n",
    "(\n",
    "    labeled_embedding_df.transform_column(\n",
    "        \"outlier_score\", lambda val: -val\n",
    "    ).hvplot.scatter(\n",
    "        c=\"outlier_score\",\n",
    "        title=\"Outlier score\",\n",
    "        cmap=\"gist_rainbow\",\n",
    "        colorbar=True,\n",
    "        logz=True,\n",
    "        **kwargs_\n",
    "    )\n",
    ")\n",
    "\n",
    "# (\n",
    "#     labeled_embedding_df.hvplot.scatter(\n",
    "#         c=\"outlier_score\",\n",
    "#         title=\"Outlier score\",\n",
    "#         cmap=\"gist_rainbow\",\n",
    "#         colorbar=True,\n",
    "#         logz=False,\n",
    "#         **kwargs_\n",
    "#     )\n",
    "# )"
   ]
  },
  {
   "cell_type": "code",
   "execution_count": null,
   "id": "1fe4c016-58ce-4c19-bd90-18627de7710d",
   "metadata": {},
   "outputs": [],
   "source": [
    "from pybbbc import BBBC021\n",
    "\n",
    "bbbc021 = BBBC021()"
   ]
  },
  {
   "cell_type": "code",
   "execution_count": null,
   "id": "34aed5f1-2b5e-49f9-b7c7-0e71377d9a60",
   "metadata": {},
   "outputs": [],
   "source": [
    "outlier_df = labeled_embedding_df.sort_values(\"outlier_score\")\n",
    "outlier_order = outlier_df[\"image_idx\"].values\n",
    "outlier_scores = outlier_df[\"outlier_score\"].values\n",
    "\n",
    "\n",
    "def make_layout(image_idx):\n",
    "    image, metadata = bbbc021[outlier_order[image_idx]]\n",
    "\n",
    "    #     prefix = f\"{metadata.compound.compound} @ {metadata.compound.concentration:.2e} μM, {metadata.compound.moa}\"\n",
    "\n",
    "    prefix = f\"{metadata.compound.compound}, {metadata.compound.moa}, {outlier_scores[image_idx]}\"\n",
    "\n",
    "    plots = []\n",
    "\n",
    "    cmaps = [\"fire\", \"kg\", \"kb\"]\n",
    "\n",
    "    for channel_idx, im_channel in enumerate(image):\n",
    "        plot = hv.Image(\n",
    "            im_channel,\n",
    "            bounds=(0, 0, im_channel.shape[1], im_channel.shape[0]),\n",
    "            label=f\"{prefix} | {bbbc021.CHANNELS[channel_idx]}\",\n",
    "        ).opts(cmap=cmaps[channel_idx])\n",
    "        plots.append(plot)\n",
    "\n",
    "    plots.append(\n",
    "        hv.RGB(\n",
    "            image.transpose(1, 2, 0),\n",
    "            bounds=(0, 0, im_channel.shape[1], im_channel.shape[0]),\n",
    "            label=\"Channel overlay\",\n",
    "        )\n",
    "    )\n",
    "\n",
    "    return hv.Layout(plots).cols(2)\n",
    "\n",
    "\n",
    "hv.DynamicMap(make_layout, kdims=\"image\").redim.range(\n",
    "    image=(0, len(bbbc021) - 1)\n",
    ")"
   ]
  },
  {
   "cell_type": "code",
   "execution_count": null,
   "id": "7d6373d1-42ab-4624-a975-592cb94ab469",
   "metadata": {},
   "outputs": [],
   "source": []
  },
  {
   "cell_type": "markdown",
   "id": "56177023-9072-404f-a455-88da43fe15b3",
   "metadata": {},
   "source": [
    "# COPOD"
   ]
  },
  {
   "cell_type": "code",
   "execution_count": null,
   "id": "cdc56462-9db9-4117-87dd-060df2df094e",
   "metadata": {},
   "outputs": [],
   "source": [
    "from pyod.models.copod import COPOD\n",
    "clf = COPOD()\n",
    "clf.fit(embedding_df[[\"umap_x\", \"umap_y\"]])\n",
    "\n",
    "\n",
    "labeled_embedding_df = embedding_df.add_columns(\n",
    "    cluster=clusterer.labels_,\n",
    "    outlier_score=clf.decision_scores_,\n",
    ")"
   ]
  },
  {
   "cell_type": "code",
   "execution_count": null,
   "id": "773cb332-7247-49bb-80fa-724e8bca80e9",
   "metadata": {},
   "outputs": [],
   "source": [
    "kwargs_ = kwargs.copy()\n",
    "kwargs_.pop(\"cmap\")\n",
    "kwargs_.pop(\"colorbar\")\n",
    "\n",
    "(\n",
    "    labeled_embedding_df.hvplot.scatter(\n",
    "        c=\"outlier_score\",\n",
    "        title=\"UMAP embedding of convnet features\",\n",
    "        cmap=\"gist_rainbow\",\n",
    "        colorbar=True,\n",
    "        **kwargs_\n",
    "    )\n",
    ")"
   ]
  },
  {
   "cell_type": "markdown",
   "id": "5568e97f-f98f-4515-af92-6f075f86af15",
   "metadata": {},
   "source": [
    "# HDBSCAN analysis\n",
    "\n",
    "Cluster each MoA separately and find any images off on their own (not in a cluster or in a tiny outlier cluster)"
   ]
  },
  {
   "cell_type": "code",
   "execution_count": null,
   "id": "646351f5-df4b-481e-89e5-e17809d33c3a",
   "metadata": {},
   "outputs": [],
   "source": [
    "from hdbscan import HDBSCAN"
   ]
  },
  {
   "cell_type": "code",
   "execution_count": null,
   "id": "71e5289f-5d62-469e-85c6-e1eaa2f7d1a9",
   "metadata": {},
   "outputs": [],
   "source": [
    "clusterer = HDBSCAN(\n",
    "    min_cluster_size=5,\n",
    "    cluster_selection_method=\"eom\",\n",
    "    cluster_selection_epsilon=0.2,\n",
    ").fit(embedding_df[[\"umap_x\", \"umap_y\"]])\n",
    "\n",
    "labeled_embedding_df = embedding_df.add_columns(\n",
    "    cluster=clusterer.labels_,\n",
    "    outlier_score=clf.negative_outlier_factor_,\n",
    "    is_outlier=np.logical_and(\n",
    "        clf.negative_outlier_factor_ < clf.offset_, clusterer.labels_ == -1\n",
    "    ),\n",
    ")\n",
    "\n",
    "labeled_embedding_df"
   ]
  },
  {
   "cell_type": "code",
   "execution_count": null,
   "id": "1775a819-89b7-442a-9b62-9d5749c5d8bc",
   "metadata": {},
   "outputs": [],
   "source": [
    "kwargs_ = kwargs.copy()\n",
    "kwargs_.pop(\"cmap\")\n",
    "kwargs_.pop(\"colorbar\")\n",
    "\n",
    "(\n",
    "    labeled_embedding_df.hvplot.scatter(\n",
    "        c=\"outlier_score\",\n",
    "        title=\"UMAP embedding of convnet features\",\n",
    "        cmap=\"gist_rainbow\",\n",
    "        colorbar=True,\n",
    "        **kwargs_\n",
    "    )\n",
    ")"
   ]
  },
  {
   "cell_type": "code",
   "execution_count": null,
   "id": "1135f69b-8999-42b7-b0b7-340e4f7a8f88",
   "metadata": {},
   "outputs": [],
   "source": [
    "kwargs_ = kwargs.copy()\n",
    "kwargs_.pop(\"cmap\")\n",
    "kwargs_.pop(\"colorbar\")\n",
    "\n",
    "(\n",
    "    labeled_embedding_df.hvplot.scatter(\n",
    "        c=\"is_outlier\",\n",
    "        title=\"UMAP embedding of convnet features\",\n",
    "        cmap=\"glasbey\",\n",
    "        colorbar=True,\n",
    "        **kwargs_\n",
    "    )\n",
    ")"
   ]
  },
  {
   "cell_type": "code",
   "execution_count": null,
   "id": "accf108b-669e-4583-b320-1e3d0f4fd712",
   "metadata": {},
   "outputs": [],
   "source": []
  },
  {
   "cell_type": "code",
   "execution_count": null,
   "id": "dd4a2c81-86f6-4927-94f9-a57000081ac7",
   "metadata": {},
   "outputs": [],
   "source": []
  },
  {
   "cell_type": "code",
   "execution_count": null,
   "id": "d96c6302-3683-46a8-9961-8a44a3f2eedc",
   "metadata": {},
   "outputs": [],
   "source": []
  },
  {
   "cell_type": "code",
   "execution_count": null,
   "id": "d712de1a-57fa-42fd-a8a9-80a81909f2ed",
   "metadata": {},
   "outputs": [],
   "source": []
  },
  {
   "cell_type": "code",
   "execution_count": null,
   "id": "f5f4fc6b-0cbc-4c97-873d-b9e6cf51f92c",
   "metadata": {},
   "outputs": [],
   "source": []
  },
  {
   "cell_type": "code",
   "execution_count": null,
   "id": "107af766-2d2d-476d-8489-217d8cfabf7b",
   "metadata": {},
   "outputs": [],
   "source": []
  },
  {
   "cell_type": "code",
   "execution_count": null,
   "id": "a39de3bb-976d-4295-99f0-52f7c8ff77cf",
   "metadata": {},
   "outputs": [],
   "source": []
  },
  {
   "cell_type": "code",
   "execution_count": null,
   "id": "fbe8bca4-7004-4a54-ad8a-855a528d901e",
   "metadata": {},
   "outputs": [],
   "source": []
  },
  {
   "cell_type": "code",
   "execution_count": null,
   "id": "9bd62e90-22c0-41e1-8bce-7b770dba755a",
   "metadata": {},
   "outputs": [],
   "source": []
  },
  {
   "cell_type": "code",
   "execution_count": null,
   "id": "da0b4309-58cf-4653-834b-cd6fc05f2b8f",
   "metadata": {},
   "outputs": [],
   "source": []
  },
  {
   "cell_type": "code",
   "execution_count": null,
   "id": "e4ca7ee5-ce83-4b52-8816-f230b0a20197",
   "metadata": {},
   "outputs": [],
   "source": []
  },
  {
   "cell_type": "code",
   "execution_count": null,
   "id": "1366fd6e-55a8-4780-b99c-fbcd780e2603",
   "metadata": {},
   "outputs": [],
   "source": []
  },
  {
   "cell_type": "code",
   "execution_count": null,
   "id": "9cb8a152-4e6a-4022-9c46-0c42de6626aa",
   "metadata": {},
   "outputs": [],
   "source": []
  },
  {
   "cell_type": "code",
   "execution_count": null,
   "id": "47f5d4fb-e9e9-4b36-b516-e128c3b33279",
   "metadata": {},
   "outputs": [],
   "source": [
    "asdf"
   ]
  },
  {
   "cell_type": "markdown",
   "id": "a3dcb0f3-a099-4690-b17c-9155aa0d7431",
   "metadata": {},
   "source": [
    "## Isolation Forest"
   ]
  },
  {
   "cell_type": "code",
   "execution_count": null,
   "id": "ad284b7c-4d11-4642-9726-2fff4e678cbe",
   "metadata": {},
   "outputs": [],
   "source": [
    "from sklearn.ensemble import IsolationForest"
   ]
  },
  {
   "cell_type": "code",
   "execution_count": null,
   "id": "7b97cb92-0917-4ec0-b653-ce6e7fdffca3",
   "metadata": {},
   "outputs": [],
   "source": [
    "clf = IsolationForest(max_samples=100, random_state=42)\n",
    "\n",
    "forest_labels = clf.fit_predict(\n",
    "    embedding_df[[\"umap_x\", \"umap_y\"]]\n",
    ")\n",
    "\n",
    "# forest_labels = clf.fit_predict(features.reshape(features.shape[0], -1))\n",
    "\n",
    "forest_labels"
   ]
  },
  {
   "cell_type": "code",
   "execution_count": null,
   "id": "ab79db8a-7924-4ea5-9500-09d9a7108d77",
   "metadata": {},
   "outputs": [],
   "source": [
    "scores = clf.score_samples(embedding_df[[\"umap_x\", \"umap_y\"]])\n",
    "\n",
    "# scores = clf.score_samples(features.reshape(features.shape[0], -1))"
   ]
  },
  {
   "cell_type": "code",
   "execution_count": null,
   "id": "c6e4d3d1-f32c-403b-9980-3bcb08a903fd",
   "metadata": {},
   "outputs": [],
   "source": [
    "labeled_embedding_df = embedding_df.add_columns(\n",
    "    outlier_score=scores,\n",
    "    is_outlier=forest_labels == -1,\n",
    ")"
   ]
  },
  {
   "cell_type": "code",
   "execution_count": null,
   "id": "e119cebb-29fb-45a2-bd0f-eb54bae25945",
   "metadata": {},
   "outputs": [],
   "source": [
    "labeled_embedding_df.hvplot.scatter(\n",
    "    y=\"outlier_score\", x=\"moa\", rot=45, alpha=0.08, height=500\n",
    ").opts(\n",
    "    jitter=0.4\n",
    ")  # * hv.HLine(clf.offset_).opts(line_dash=\"dashed\", color='k')"
   ]
  },
  {
   "cell_type": "code",
   "execution_count": null,
   "id": "c22eccc5-79c4-4981-b98e-c8f76a97658c",
   "metadata": {},
   "outputs": [],
   "source": [
    "kwargs_ = kwargs.copy()\n",
    "kwargs_.pop(\"cmap\")\n",
    "kwargs_.pop(\"colorbar\")\n",
    "\n",
    "(\n",
    "    labeled_embedding_df.hvplot.scatter(\n",
    "        c=\"outlier_score\",\n",
    "        title=\"Outlier score\",\n",
    "        cmap=\"fire\",\n",
    "        colorbar=True,\n",
    "        **kwargs_\n",
    "    )\n",
    ")"
   ]
  },
  {
   "cell_type": "code",
   "execution_count": null,
   "id": "07fe0f68-2787-4ce0-a713-d0eee2055422",
   "metadata": {},
   "outputs": [],
   "source": [
    "kwargs_ = kwargs.copy()\n",
    "kwargs_.pop(\"cmap\")\n",
    "kwargs_.pop(\"colorbar\")\n",
    "\n",
    "(\n",
    "    labeled_embedding_df.hvplot.scatter(\n",
    "        c=\"is_outlier\",\n",
    "        title=\"Is an outlier?\",\n",
    "        cmap=\"glasbey\",\n",
    "        colorbar=True,\n",
    "        **kwargs_\n",
    "    )\n",
    ")"
   ]
  },
  {
   "cell_type": "code",
   "execution_count": null,
   "id": "3bdfcf41-17d7-4d09-b6a0-f722d13fe142",
   "metadata": {},
   "outputs": [],
   "source": [
    "kwargs_ = kwargs.copy()\n",
    "kwargs_.pop(\"cmap\")\n",
    "kwargs_.pop(\"colorbar\")\n",
    "\n",
    "(\n",
    "    labeled_embedding_df.hvplot.scatter(\n",
    "        c=\"outlier_score\",\n",
    "        title=\"Outlier score\",\n",
    "        cmap=\"fire\",\n",
    "        colorbar=True,\n",
    "        **kwargs_\n",
    "    )\n",
    ")"
   ]
  },
  {
   "cell_type": "markdown",
   "id": "e67aabb6-7d49-4b2c-91fa-eec164c24ca6",
   "metadata": {},
   "source": [
    "## LocalOutlierFactor"
   ]
  },
  {
   "cell_type": "code",
   "execution_count": null,
   "id": "7c5640a7-dcfb-4874-aad6-4a4fd7f7e067",
   "metadata": {},
   "outputs": [],
   "source": [
    "from sklearn.neighbors import LocalOutlierFactor\n",
    "\n",
    "clf = LocalOutlierFactor(n_neighbors=3, contamination=\"auto\").fit(\n",
    "    embedding_df[[\"umap_x\", \"umap_y\"]]\n",
    ")"
   ]
  },
  {
   "cell_type": "code",
   "execution_count": null,
   "id": "adfa1945-ff5f-4833-bfa3-8782d1d2307f",
   "metadata": {},
   "outputs": [],
   "source": [
    "labeled_embedding_df = embedding_df.add_columns(\n",
    "    outlier_score=clf.negative_outlier_factor_,\n",
    ")"
   ]
  },
  {
   "cell_type": "code",
   "execution_count": null,
   "id": "360ef834-13fc-4bb9-b0f2-3e7649055514",
   "metadata": {},
   "outputs": [],
   "source": [
    "labeled_embedding_df"
   ]
  },
  {
   "cell_type": "code",
   "execution_count": null,
   "id": "a888eae6-212b-4e8c-bf7a-0a34a5c0ee33",
   "metadata": {},
   "outputs": [],
   "source": [
    "labeled_embedding_df.hvplot.scatter(\n",
    "    y=\"outlier_score\",\n",
    "    x=\"moa\",\n",
    "    hover_cols=\"compound\",\n",
    "    rot=45,\n",
    "    alpha=0.08,\n",
    "    height=500,\n",
    ").opts(jitter=0.4) * hv.HLine(clf.offset_).opts(line_dash=\"dashed\", color=\"k\")"
   ]
  },
  {
   "cell_type": "code",
   "execution_count": null,
   "id": "37b7993b-04ed-493c-9bb9-9b33192461ce",
   "metadata": {},
   "outputs": [],
   "source": [
    "kwargs_ = kwargs.copy()\n",
    "kwargs_.pop(\"cmap\")\n",
    "kwargs_.pop(\"colorbar\")\n",
    "\n",
    "(\n",
    "    labeled_embedding_df.transform_column(\n",
    "        \"outlier_score\", lambda val: -val\n",
    "    ).hvplot.scatter(\n",
    "        c=\"outlier_score\",\n",
    "        title=\"Outlier score\",\n",
    "        cmap=\"gist_rainbow\",\n",
    "        colorbar=True,\n",
    "        logz=True,\n",
    "        **kwargs_\n",
    "    )\n",
    ")"
   ]
  },
  {
   "cell_type": "code",
   "execution_count": null,
   "id": "c94d8ae8-26f0-49e5-81a4-8554aee92f48",
   "metadata": {},
   "outputs": [],
   "source": [
    "outlier_df = labeled_embedding_df.sort_values(\"outlier_score\")\n",
    "outlier_order = outlier_df[\"image_idx\"].values\n",
    "outlier_scores = outlier_df[\"outlier_score\"].values\n",
    "\n",
    "\n",
    "def make_layout(image_idx):\n",
    "    image, metadata = bbbc021[outlier_order[image_idx]]\n",
    "\n",
    "    #     prefix = f\"{metadata.compound.compound} @ {metadata.compound.concentration:.2e} μM, {metadata.compound.moa}\"\n",
    "\n",
    "    prefix = f\"{metadata.compound.compound}, {metadata.compound.moa}, {outlier_scores[image_idx]}\"\n",
    "\n",
    "    plots = []\n",
    "\n",
    "    cmaps = [\"fire\", \"kg\", \"kb\"]\n",
    "\n",
    "    for channel_idx, im_channel in enumerate(image):\n",
    "        plot = hv.Image(\n",
    "            im_channel,\n",
    "            bounds=(0, 0, im_channel.shape[1], im_channel.shape[0]),\n",
    "            label=f\"{prefix} | {bbbc021.CHANNELS[channel_idx]}\",\n",
    "        ).opts(cmap=cmaps[channel_idx])\n",
    "        plots.append(plot)\n",
    "\n",
    "    plots.append(\n",
    "        hv.RGB(\n",
    "            image.transpose(1, 2, 0),\n",
    "            bounds=(0, 0, im_channel.shape[1], im_channel.shape[0]),\n",
    "            label=\"Channel overlay\",\n",
    "        )\n",
    "    )\n",
    "\n",
    "    return hv.Layout(plots).cols(2)\n",
    "\n",
    "\n",
    "hv.DynamicMap(make_layout, kdims=\"image\").redim.range(\n",
    "    image=(0, len(bbbc021) - 1)\n",
    ")"
   ]
  },
  {
   "cell_type": "code",
   "execution_count": null,
   "id": "e3c37cc1-9d73-4abd-bd6f-cd821ea3b9c7",
   "metadata": {},
   "outputs": [],
   "source": [
    "image, metadata = bbbc021[outlier_order[0]]"
   ]
  },
  {
   "cell_type": "code",
   "execution_count": null,
   "id": "cf9af37a-53e1-48d1-a9df-640dc2714fd7",
   "metadata": {},
   "outputs": [],
   "source": [
    "image.shape"
   ]
  },
  {
   "cell_type": "code",
   "execution_count": null,
   "id": "7a045511-843b-47ca-aad8-128a27c6c372",
   "metadata": {},
   "outputs": [],
   "source": [
    "def normalize(hist, edges):\n",
    "    return hist / hist.sum(), edges"
   ]
  },
  {
   "cell_type": "code",
   "execution_count": null,
   "id": "a27b5d54-8f4a-470a-b536-ff32c8e02021",
   "metadata": {},
   "outputs": [],
   "source": [
    "hv.Layout(\n",
    "    [hv.Histogram(normalize(*np.histogram(im_slice))) for im_slice in image]\n",
    ")"
   ]
  },
  {
   "cell_type": "code",
   "execution_count": null,
   "id": "3a69c281-b7d6-4d13-a75e-a9f4def5457c",
   "metadata": {},
   "outputs": [],
   "source": [
    "def ecdf(x):\n",
    "    xs = np.sort(x)\n",
    "    ys = np.arange(1, len(xs) + 1) / float(len(xs))\n",
    "    return xs, ys"
   ]
  },
  {
   "cell_type": "code",
   "execution_count": null,
   "id": "534a5a38-8a8c-469e-9013-36fd7a42d547",
   "metadata": {},
   "outputs": [],
   "source": [
    "image.reshape(3, -1).shape"
   ]
  },
  {
   "cell_type": "code",
   "execution_count": null,
   "id": "4cff5f09-0132-41e8-bddf-6d62a0541523",
   "metadata": {},
   "outputs": [],
   "source": [
    "np.median(image.reshape(3, -1), axis=1)"
   ]
  },
  {
   "cell_type": "code",
   "execution_count": null,
   "id": "7b8b3511-f34e-4a82-8661-4ad38ba71712",
   "metadata": {},
   "outputs": [],
   "source": [
    "num_points = 2000\n",
    "\n",
    "plots = []\n",
    "\n",
    "for im_slice in image:\n",
    "    xs, ys = ecdf(im_slice.ravel())\n",
    "\n",
    "    idcs = np.linspace(0, len(xs) - 1, num_points, dtype=int)\n",
    "\n",
    "    plots.append(hv.Curve((xs[idcs], ys[idcs])))\n",
    "\n",
    "hv.Layout(plots)"
   ]
  },
  {
   "cell_type": "code",
   "execution_count": null,
   "id": "eaac85f9-78bf-464b-915d-09711647bf4e",
   "metadata": {},
   "outputs": [],
   "source": [
    "xs.shape"
   ]
  },
  {
   "cell_type": "code",
   "execution_count": null,
   "id": "c8e4b97b-ef86-4ae8-b9ad-49690578be60",
   "metadata": {},
   "outputs": [],
   "source": []
  },
  {
   "cell_type": "markdown",
   "id": "22ee915b-c966-4ac3-a700-4fa7fc7a3e9b",
   "metadata": {},
   "source": [
    "# !!! also do clusters that have the highest number of unique MoAs in them"
   ]
  },
  {
   "cell_type": "code",
   "execution_count": null,
   "id": "879d1a41-dfd1-4452-a179-832c20521750",
   "metadata": {},
   "outputs": [],
   "source": [
    "# (\n",
    "#     labeled_embedding_df.query('moa != \"null\"').hvplot.scatter(\n",
    "#         c=\"cluster\", title=\"UMAP embedding of convnet features\", **kwargs\n",
    "#     )\n",
    "# )\n",
    "# # + (\n",
    "# #     labeled_embedding_df.hvplot.scatter(\n",
    "# #         c=\"cluster\", title=\"UMAP embedding of convnet features\", **kwargs\n",
    "# #     )\n",
    "# # )"
   ]
  },
  {
   "cell_type": "code",
   "execution_count": null,
   "id": "9036fc4d-34e4-4851-8236-6c1a2aa23085",
   "metadata": {},
   "outputs": [],
   "source": [
    "(\n",
    "    labeled_embedding_df.hvplot.scatter(\n",
    "        c=\"cluster\", title=\"UMAP embedding of convnet features\", **kwargs\n",
    "    )\n",
    ")"
   ]
  },
  {
   "cell_type": "code",
   "execution_count": null,
   "id": "a538fa5e-f143-42f0-8cbc-0e0c9c451b05",
   "metadata": {},
   "outputs": [],
   "source": []
  },
  {
   "cell_type": "code",
   "execution_count": null,
   "id": "550eceda-b627-4d72-b90b-a82e8fad04fb",
   "metadata": {},
   "outputs": [],
   "source": [
    "moa_cluster_df = (\n",
    "    labeled_embedding_df.groupby(\"moa\")[\"cluster\"]\n",
    "    .unique()\n",
    "    .to_frame()\n",
    "    .explode(\"cluster\")\n",
    "    .reset_index()\n",
    ")\n",
    "moa_cluster_df"
   ]
  }
 ],
 "metadata": {
  "kernelspec": {
   "display_name": "pytorch-hcs",
   "language": "python",
   "name": "pytorch-hcs"
  },
  "language_info": {
   "codemirror_mode": {
    "name": "ipython",
    "version": 3
   },
   "file_extension": ".py",
   "mimetype": "text/x-python",
   "name": "python",
   "nbconvert_exporter": "python",
   "pygments_lexer": "ipython3",
   "version": "3.9.7"
  }
 },
 "nbformat": 4,
 "nbformat_minor": 5
}
